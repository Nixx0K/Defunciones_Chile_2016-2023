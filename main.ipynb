{
 "cells": [
  {
   "cell_type": "markdown",
   "id": "8d2a575e",
   "metadata": {},
   "source": [
    "---\n",
    "---\n",
    "# Defunciones en Chile 2016-2023\n",
    "---\n",
    "---"
   ]
  },
  {
   "cell_type": "markdown",
   "id": "0bf08c86",
   "metadata": {},
   "source": [
    "#### Nombre: Nicolás De la Fuente"
   ]
  },
  {
   "cell_type": "markdown",
   "id": "14e9001a",
   "metadata": {},
   "source": [
    "---\n",
    "### 1.- Importar librerias:"
   ]
  },
  {
   "cell_type": "markdown",
   "id": "7ed1f6f6",
   "metadata": {},
   "source": [
    "Se importaron las librerías pandas, numpy, seaborn, matplotlib y sklearn:\n",
    "- Pandas se utilizó para la lectura de los sets de datos, el trabajo con data frames y la depuración de ellos.\n",
    "- numpy para hacer cálculos y trabajar con matrices.\n",
    "- seaborn y matplotlib para graficar los datos.\n",
    "- sklearn preprocessing para la normalización de los datos\n",
    "- sklearn decomposition para disminuir las dimensiones por medio de PCA\n",
    "- sklearn model selection para hacer la división de los datos en los set de entrenamiento y testeo\n",
    "- sklearn cluster para hacer los modelos no supervisados de KMeans y DBSCAN\n",
    "- sklearn metrics para el cálculo de las estadísticas de accuracy, precision, f1 score y recall."
   ]
  },
  {
   "cell_type": "code",
   "execution_count": 1,
   "id": "86873b74",
   "metadata": {},
   "outputs": [],
   "source": [
    "import pandas as pd"
   ]
  },
  {
   "cell_type": "code",
   "execution_count": 2,
   "id": "784cea30",
   "metadata": {},
   "outputs": [],
   "source": [
    "import numpy as np"
   ]
  },
  {
   "cell_type": "code",
   "execution_count": 3,
   "id": "446d6c9c-dde2-4a2f-b992-43c5e836bcce",
   "metadata": {},
   "outputs": [],
   "source": [
    "from sklearn import preprocessing as sk"
   ]
  },
  {
   "cell_type": "code",
   "execution_count": 4,
   "id": "000c583a",
   "metadata": {},
   "outputs": [],
   "source": [
    "import seaborn as sns"
   ]
  },
  {
   "cell_type": "code",
   "execution_count": 5,
   "id": "b57df67e",
   "metadata": {},
   "outputs": [],
   "source": [
    "import matplotlib.pyplot as plt"
   ]
  },
  {
   "cell_type": "code",
   "execution_count": 6,
   "id": "4e290962",
   "metadata": {},
   "outputs": [],
   "source": [
    "from sklearn import decomposition"
   ]
  },
  {
   "cell_type": "code",
   "execution_count": 7,
   "id": "b5769f13",
   "metadata": {},
   "outputs": [],
   "source": [
    "from sklearn.model_selection import train_test_split, KFold"
   ]
  },
  {
   "cell_type": "code",
   "execution_count": 8,
   "id": "038fac5d",
   "metadata": {},
   "outputs": [],
   "source": [
    "from sklearn.cluster import KMeans, DBSCAN"
   ]
  },
  {
   "cell_type": "code",
   "execution_count": 9,
   "id": "7fc7427c",
   "metadata": {},
   "outputs": [],
   "source": [
    "from sklearn.metrics import accuracy_score, precision_score, f1_score, recall_score"
   ]
  },
  {
   "cell_type": "code",
   "execution_count": 10,
   "id": "53b12aaf",
   "metadata": {},
   "outputs": [],
   "source": [
    "import mysql.connector as sql"
   ]
  },
  {
   "cell_type": "code",
   "execution_count": 11,
   "id": "ff43fe96",
   "metadata": {},
   "outputs": [],
   "source": [
    "import time"
   ]
  },
  {
   "cell_type": "markdown",
   "id": "8e1d3f80",
   "metadata": {},
   "source": [
    "---\n",
    "### 2.- Analisis exploratorio"
   ]
  },
  {
   "cell_type": "markdown",
   "id": "625a03ba",
   "metadata": {},
   "source": [
    "Empezaremos cargando los set utilizando la librerias de pandas. Se trabajará con dos set uno correspondiente a las defunciones en Chile entre 2016 y 2021 (obtenida desde kaggle) y otra de defunciones en Chile entre 2021 y 2023 (obtenida desde Minsal). Se adjuntará también el archivo \"Diccionario de Datos BBDD\", que corresponde a los atributos de cada set de datos, que en este caso son compartidos pero que tienen algunas diferencias que abordaremos más adelante."
   ]
  },
  {
   "cell_type": "markdown",
   "id": "c1077728-7d44-4f0d-9652-5d8aeeb9617f",
   "metadata": {},
   "source": [
    "#### 2.1 Lectura y exploracion de DF1 \"defunciones entre 2016 y 2021\""
   ]
  },
  {
   "cell_type": "markdown",
   "id": "9e3686ee",
   "metadata": {},
   "source": [
    "Cargamos la libreria de \"defunciones_2016-2021_deis.csv\", y lo visualizamos las primeras entradas. Inmediatamente vemos que hay algunas columnas con codigos que no nos entregan mucha informacion y con subdiagnosticos que no tienen datos, tambien tenemos un atributo de id unico \"Unnamed: 0\" y una reiteracion entre algunas columnas con datos duros y su codigo, por ejemplo con el codigo de la comuna de residencia y la comuna de residencia. Al ver la informacion del dataframe vemos que hay atributos con 189.057 y 46.583 entradas de 688.917"
   ]
  },
  {
   "cell_type": "code",
   "execution_count": 12,
   "id": "3f3457a2",
   "metadata": {},
   "outputs": [],
   "source": [
    "df = pd.read_csv(\"defunciones_2016-2021_deis.csv\", sep=\",\")"
   ]
  },
  {
   "cell_type": "code",
   "execution_count": 13,
   "id": "177dd4b6",
   "metadata": {},
   "outputs": [
    {
     "data": {
      "text/html": [
       "<div>\n",
       "<style scoped>\n",
       "    .dataframe tbody tr th:only-of-type {\n",
       "        vertical-align: middle;\n",
       "    }\n",
       "\n",
       "    .dataframe tbody tr th {\n",
       "        vertical-align: top;\n",
       "    }\n",
       "\n",
       "    .dataframe thead th {\n",
       "        text-align: right;\n",
       "    }\n",
       "</style>\n",
       "<table border=\"1\" class=\"dataframe\">\n",
       "  <thead>\n",
       "    <tr style=\"text-align: right;\">\n",
       "      <th></th>\n",
       "      <th>Unnamed: 0</th>\n",
       "      <th>Año</th>\n",
       "      <th>Fecha_def</th>\n",
       "      <th>Sexo</th>\n",
       "      <th>Edad</th>\n",
       "      <th>Edad_num</th>\n",
       "      <th>Cod_com_res</th>\n",
       "      <th>Com_resi</th>\n",
       "      <th>Reg_resi</th>\n",
       "      <th>Causa_bas_def</th>\n",
       "      <th>...</th>\n",
       "      <th>DIAG2</th>\n",
       "      <th>CAP_DIAG2</th>\n",
       "      <th>GLOSA_CAPITULO_DIAG2</th>\n",
       "      <th>CODIGO_GRUPO_DIAG2</th>\n",
       "      <th>GLOSA_GRUPO_DIAG2</th>\n",
       "      <th>CODIGO_CATEGORIA_DIAG2</th>\n",
       "      <th>GLOSA_CATEGORIA_DIAG2</th>\n",
       "      <th>CODIGO_SUBCATEGORIA_DIAG2</th>\n",
       "      <th>GLOSA_SUBCATEGORIA_DIAG2</th>\n",
       "      <th>lugar_def</th>\n",
       "    </tr>\n",
       "  </thead>\n",
       "  <tbody>\n",
       "    <tr>\n",
       "      <th>0</th>\n",
       "      <td>0</td>\n",
       "      <td>2021</td>\n",
       "      <td>2021-06-01</td>\n",
       "      <td>Hombre</td>\n",
       "      <td>1</td>\n",
       "      <td>50</td>\n",
       "      <td>13110</td>\n",
       "      <td>La Florida</td>\n",
       "      <td>Metropolitana de Santiago</td>\n",
       "      <td>I219</td>\n",
       "      <td>...</td>\n",
       "      <td></td>\n",
       "      <td>NaN</td>\n",
       "      <td>NaN</td>\n",
       "      <td>NaN</td>\n",
       "      <td>NaN</td>\n",
       "      <td>NaN</td>\n",
       "      <td>NaN</td>\n",
       "      <td>NaN</td>\n",
       "      <td>NaN</td>\n",
       "      <td>Hospital o Clínica</td>\n",
       "    </tr>\n",
       "    <tr>\n",
       "      <th>1</th>\n",
       "      <td>1</td>\n",
       "      <td>2021</td>\n",
       "      <td>2021-05-29</td>\n",
       "      <td>Hombre</td>\n",
       "      <td>1</td>\n",
       "      <td>31</td>\n",
       "      <td>13301</td>\n",
       "      <td>Colina</td>\n",
       "      <td>Metropolitana de Santiago</td>\n",
       "      <td>B208</td>\n",
       "      <td>...</td>\n",
       "      <td>NaN</td>\n",
       "      <td>NaN</td>\n",
       "      <td>NaN</td>\n",
       "      <td>NaN</td>\n",
       "      <td>NaN</td>\n",
       "      <td>NaN</td>\n",
       "      <td>NaN</td>\n",
       "      <td>NaN</td>\n",
       "      <td>NaN</td>\n",
       "      <td>Hospital o Clínica</td>\n",
       "    </tr>\n",
       "    <tr>\n",
       "      <th>2</th>\n",
       "      <td>2</td>\n",
       "      <td>2021</td>\n",
       "      <td>2021-06-02</td>\n",
       "      <td>Hombre</td>\n",
       "      <td>1</td>\n",
       "      <td>39</td>\n",
       "      <td>6101</td>\n",
       "      <td>Rancagua</td>\n",
       "      <td>Del Libertador B. O'Higgins</td>\n",
       "      <td>R960</td>\n",
       "      <td>...</td>\n",
       "      <td>NaN</td>\n",
       "      <td>NaN</td>\n",
       "      <td>NaN</td>\n",
       "      <td>NaN</td>\n",
       "      <td>NaN</td>\n",
       "      <td>NaN</td>\n",
       "      <td>NaN</td>\n",
       "      <td>NaN</td>\n",
       "      <td>NaN</td>\n",
       "      <td>Otro</td>\n",
       "    </tr>\n",
       "    <tr>\n",
       "      <th>3</th>\n",
       "      <td>3</td>\n",
       "      <td>2021</td>\n",
       "      <td>2021-06-01</td>\n",
       "      <td>Mujer</td>\n",
       "      <td>1</td>\n",
       "      <td>58</td>\n",
       "      <td>13129</td>\n",
       "      <td>San Joaquín</td>\n",
       "      <td>Metropolitana de Santiago</td>\n",
       "      <td>C539</td>\n",
       "      <td>...</td>\n",
       "      <td>NaN</td>\n",
       "      <td>NaN</td>\n",
       "      <td>NaN</td>\n",
       "      <td>NaN</td>\n",
       "      <td>NaN</td>\n",
       "      <td>NaN</td>\n",
       "      <td>NaN</td>\n",
       "      <td>NaN</td>\n",
       "      <td>NaN</td>\n",
       "      <td>Casa habitación</td>\n",
       "    </tr>\n",
       "    <tr>\n",
       "      <th>4</th>\n",
       "      <td>4</td>\n",
       "      <td>2021</td>\n",
       "      <td>2021-05-27</td>\n",
       "      <td>Hombre</td>\n",
       "      <td>1</td>\n",
       "      <td>46</td>\n",
       "      <td>15101</td>\n",
       "      <td>Arica</td>\n",
       "      <td>De Arica y Parinacota</td>\n",
       "      <td>I219</td>\n",
       "      <td>...</td>\n",
       "      <td>NaN</td>\n",
       "      <td>NaN</td>\n",
       "      <td>NaN</td>\n",
       "      <td>NaN</td>\n",
       "      <td>NaN</td>\n",
       "      <td>NaN</td>\n",
       "      <td>NaN</td>\n",
       "      <td>NaN</td>\n",
       "      <td>NaN</td>\n",
       "      <td>Casa habitación</td>\n",
       "    </tr>\n",
       "  </tbody>\n",
       "</table>\n",
       "<p>5 rows × 28 columns</p>\n",
       "</div>"
      ],
      "text/plain": [
       "   Unnamed: 0   Año   Fecha_def    Sexo  Edad  Edad_num  Cod_com_res  \\\n",
       "0           0  2021  2021-06-01  Hombre     1        50        13110   \n",
       "1           1  2021  2021-05-29  Hombre     1        31        13301   \n",
       "2           2  2021  2021-06-02  Hombre     1        39         6101   \n",
       "3           3  2021  2021-06-01   Mujer     1        58        13129   \n",
       "4           4  2021  2021-05-27  Hombre     1        46        15101   \n",
       "\n",
       "      Com_resi                     Reg_resi Causa_bas_def  ... DIAG2  \\\n",
       "0   La Florida    Metropolitana de Santiago          I219  ...         \n",
       "1       Colina    Metropolitana de Santiago          B208  ...   NaN   \n",
       "2     Rancagua  Del Libertador B. O'Higgins          R960  ...   NaN   \n",
       "3  San Joaquín    Metropolitana de Santiago          C539  ...   NaN   \n",
       "4        Arica        De Arica y Parinacota          I219  ...   NaN   \n",
       "\n",
       "  CAP_DIAG2 GLOSA_CAPITULO_DIAG2 CODIGO_GRUPO_DIAG2 GLOSA_GRUPO_DIAG2  \\\n",
       "0       NaN                  NaN                NaN               NaN   \n",
       "1       NaN                  NaN                NaN               NaN   \n",
       "2       NaN                  NaN                NaN               NaN   \n",
       "3       NaN                  NaN                NaN               NaN   \n",
       "4       NaN                  NaN                NaN               NaN   \n",
       "\n",
       "  CODIGO_CATEGORIA_DIAG2 GLOSA_CATEGORIA_DIAG2 CODIGO_SUBCATEGORIA_DIAG2  \\\n",
       "0                    NaN                   NaN                       NaN   \n",
       "1                    NaN                   NaN                       NaN   \n",
       "2                    NaN                   NaN                       NaN   \n",
       "3                    NaN                   NaN                       NaN   \n",
       "4                    NaN                   NaN                       NaN   \n",
       "\n",
       "  GLOSA_SUBCATEGORIA_DIAG2           lugar_def  \n",
       "0                      NaN  Hospital o Clínica  \n",
       "1                      NaN  Hospital o Clínica  \n",
       "2                      NaN                Otro  \n",
       "3                      NaN     Casa habitación  \n",
       "4                      NaN     Casa habitación  \n",
       "\n",
       "[5 rows x 28 columns]"
      ]
     },
     "execution_count": 13,
     "metadata": {},
     "output_type": "execute_result"
    }
   ],
   "source": [
    "df.head()"
   ]
  },
  {
   "cell_type": "code",
   "execution_count": 14,
   "id": "34e58db2",
   "metadata": {},
   "outputs": [
    {
     "name": "stdout",
     "output_type": "stream",
     "text": [
      "<class 'pandas.core.frame.DataFrame'>\n",
      "RangeIndex: 688917 entries, 0 to 688916\n",
      "Data columns (total 28 columns):\n",
      " #   Column                     Non-Null Count   Dtype \n",
      "---  ------                     --------------   ----- \n",
      " 0   Unnamed: 0                 688917 non-null  int64 \n",
      " 1   Año                        688917 non-null  int64 \n",
      " 2   Fecha_def                  688917 non-null  object\n",
      " 3   Sexo                       688917 non-null  object\n",
      " 4   Edad                       688917 non-null  int64 \n",
      " 5   Edad_num                   688917 non-null  int64 \n",
      " 6   Cod_com_res                688917 non-null  int64 \n",
      " 7   Com_resi                   688917 non-null  object\n",
      " 8   Reg_resi                   688917 non-null  object\n",
      " 9   Causa_bas_def              688917 non-null  object\n",
      " 10  CAPITULO_DIAG1             688917 non-null  object\n",
      " 11  GLOSA_CAPITULO_DIAG1       688917 non-null  object\n",
      " 12  CODIGO_GRUPO_DIAG1         688917 non-null  object\n",
      " 13  GLOSA_GRUPO_DIAG1          688917 non-null  object\n",
      " 14  CODIGO_CATEGORIA_DIAG1     688917 non-null  object\n",
      " 15  GLOSA_CATEGORIA_DIAG1      688917 non-null  object\n",
      " 16  CODIGO_SUBCATEGORIA_DIAG1  688917 non-null  object\n",
      " 17  GLOSA_SUBCATEGORIA_DIAG1   688917 non-null  object\n",
      " 18  DIAG2                      189057 non-null  object\n",
      " 19  CAP_DIAG2                  46583 non-null   object\n",
      " 20  GLOSA_CAPITULO_DIAG2       46583 non-null   object\n",
      " 21  CODIGO_GRUPO_DIAG2         46583 non-null   object\n",
      " 22  GLOSA_GRUPO_DIAG2          46583 non-null   object\n",
      " 23  CODIGO_CATEGORIA_DIAG2     46583 non-null   object\n",
      " 24  GLOSA_CATEGORIA_DIAG2      46583 non-null   object\n",
      " 25  CODIGO_SUBCATEGORIA_DIAG2  46583 non-null   object\n",
      " 26  GLOSA_SUBCATEGORIA_DIAG2   46583 non-null   object\n",
      " 27  lugar_def                  688917 non-null  object\n",
      "dtypes: int64(5), object(23)\n",
      "memory usage: 147.2+ MB\n"
     ]
    }
   ],
   "source": [
    "df.info()"
   ]
  },
  {
   "cell_type": "code",
   "execution_count": 15,
   "id": "049d590e",
   "metadata": {},
   "outputs": [
    {
     "data": {
      "text/plain": [
       "Index(['Unnamed: 0', 'Año', 'Fecha_def', 'Sexo', 'Edad', 'Edad_num',\n",
       "       'Cod_com_res', 'Com_resi', 'Reg_resi', 'Causa_bas_def',\n",
       "       'CAPITULO_DIAG1', 'GLOSA_CAPITULO_DIAG1', 'CODIGO_GRUPO_DIAG1',\n",
       "       'GLOSA_GRUPO_DIAG1', 'CODIGO_CATEGORIA_DIAG1', 'GLOSA_CATEGORIA_DIAG1',\n",
       "       'CODIGO_SUBCATEGORIA_DIAG1', 'GLOSA_SUBCATEGORIA_DIAG1', 'DIAG2',\n",
       "       'CAP_DIAG2', 'GLOSA_CAPITULO_DIAG2', 'CODIGO_GRUPO_DIAG2',\n",
       "       'GLOSA_GRUPO_DIAG2', 'CODIGO_CATEGORIA_DIAG2', 'GLOSA_CATEGORIA_DIAG2',\n",
       "       'CODIGO_SUBCATEGORIA_DIAG2', 'GLOSA_SUBCATEGORIA_DIAG2', 'lugar_def'],\n",
       "      dtype='object')"
      ]
     },
     "execution_count": 15,
     "metadata": {},
     "output_type": "execute_result"
    }
   ],
   "source": [
    "df.columns"
   ]
  },
  {
   "cell_type": "code",
   "execution_count": 16,
   "id": "1468940d-c556-45d4-b242-758b3dcb7f02",
   "metadata": {},
   "outputs": [
    {
     "data": {
      "text/html": [
       "<div>\n",
       "<style scoped>\n",
       "    .dataframe tbody tr th:only-of-type {\n",
       "        vertical-align: middle;\n",
       "    }\n",
       "\n",
       "    .dataframe tbody tr th {\n",
       "        vertical-align: top;\n",
       "    }\n",
       "\n",
       "    .dataframe thead th {\n",
       "        text-align: right;\n",
       "    }\n",
       "</style>\n",
       "<table border=\"1\" class=\"dataframe\">\n",
       "  <thead>\n",
       "    <tr style=\"text-align: right;\">\n",
       "      <th></th>\n",
       "      <th>Unnamed: 0</th>\n",
       "      <th>Año</th>\n",
       "      <th>Edad</th>\n",
       "      <th>Edad_num</th>\n",
       "      <th>Cod_com_res</th>\n",
       "    </tr>\n",
       "  </thead>\n",
       "  <tbody>\n",
       "    <tr>\n",
       "      <th>count</th>\n",
       "      <td>688917.000000</td>\n",
       "      <td>688917.000000</td>\n",
       "      <td>688917.000000</td>\n",
       "      <td>688917.000000</td>\n",
       "      <td>688917.000000</td>\n",
       "    </tr>\n",
       "    <tr>\n",
       "      <th>mean</th>\n",
       "      <td>344458.000000</td>\n",
       "      <td>2018.661218</td>\n",
       "      <td>1.025578</td>\n",
       "      <td>72.072000</td>\n",
       "      <td>9795.538505</td>\n",
       "    </tr>\n",
       "    <tr>\n",
       "      <th>std</th>\n",
       "      <td>198873.352036</td>\n",
       "      <td>1.729299</td>\n",
       "      <td>0.249346</td>\n",
       "      <td>18.612659</td>\n",
       "      <td>3909.891280</td>\n",
       "    </tr>\n",
       "    <tr>\n",
       "      <th>min</th>\n",
       "      <td>0.000000</td>\n",
       "      <td>2016.000000</td>\n",
       "      <td>1.000000</td>\n",
       "      <td>1.000000</td>\n",
       "      <td>1101.000000</td>\n",
       "    </tr>\n",
       "    <tr>\n",
       "      <th>25%</th>\n",
       "      <td>172229.000000</td>\n",
       "      <td>2017.000000</td>\n",
       "      <td>1.000000</td>\n",
       "      <td>63.000000</td>\n",
       "      <td>6117.000000</td>\n",
       "    </tr>\n",
       "    <tr>\n",
       "      <th>50%</th>\n",
       "      <td>344458.000000</td>\n",
       "      <td>2019.000000</td>\n",
       "      <td>1.000000</td>\n",
       "      <td>76.000000</td>\n",
       "      <td>10106.000000</td>\n",
       "    </tr>\n",
       "    <tr>\n",
       "      <th>75%</th>\n",
       "      <td>516687.000000</td>\n",
       "      <td>2020.000000</td>\n",
       "      <td>1.000000</td>\n",
       "      <td>86.000000</td>\n",
       "      <td>13121.000000</td>\n",
       "    </tr>\n",
       "    <tr>\n",
       "      <th>max</th>\n",
       "      <td>688916.000000</td>\n",
       "      <td>2021.000000</td>\n",
       "      <td>9.000000</td>\n",
       "      <td>999.000000</td>\n",
       "      <td>99999.000000</td>\n",
       "    </tr>\n",
       "  </tbody>\n",
       "</table>\n",
       "</div>"
      ],
      "text/plain": [
       "          Unnamed: 0            Año           Edad       Edad_num  \\\n",
       "count  688917.000000  688917.000000  688917.000000  688917.000000   \n",
       "mean   344458.000000    2018.661218       1.025578      72.072000   \n",
       "std    198873.352036       1.729299       0.249346      18.612659   \n",
       "min         0.000000    2016.000000       1.000000       1.000000   \n",
       "25%    172229.000000    2017.000000       1.000000      63.000000   \n",
       "50%    344458.000000    2019.000000       1.000000      76.000000   \n",
       "75%    516687.000000    2020.000000       1.000000      86.000000   \n",
       "max    688916.000000    2021.000000       9.000000     999.000000   \n",
       "\n",
       "         Cod_com_res  \n",
       "count  688917.000000  \n",
       "mean     9795.538505  \n",
       "std      3909.891280  \n",
       "min      1101.000000  \n",
       "25%      6117.000000  \n",
       "50%     10106.000000  \n",
       "75%     13121.000000  \n",
       "max     99999.000000  "
      ]
     },
     "execution_count": 16,
     "metadata": {},
     "output_type": "execute_result"
    }
   ],
   "source": [
    "df.describe()"
   ]
  },
  {
   "cell_type": "code",
   "execution_count": 17,
   "id": "07e1a274-9f54-41c5-acc3-e97475afd9f9",
   "metadata": {},
   "outputs": [
    {
     "data": {
      "text/html": [
       "<div>\n",
       "<style scoped>\n",
       "    .dataframe tbody tr th:only-of-type {\n",
       "        vertical-align: middle;\n",
       "    }\n",
       "\n",
       "    .dataframe tbody tr th {\n",
       "        vertical-align: top;\n",
       "    }\n",
       "\n",
       "    .dataframe thead th {\n",
       "        text-align: right;\n",
       "    }\n",
       "</style>\n",
       "<table border=\"1\" class=\"dataframe\">\n",
       "  <thead>\n",
       "    <tr style=\"text-align: right;\">\n",
       "      <th></th>\n",
       "      <th>Fecha_def</th>\n",
       "      <th>Sexo</th>\n",
       "      <th>Com_resi</th>\n",
       "      <th>Reg_resi</th>\n",
       "      <th>Causa_bas_def</th>\n",
       "      <th>CAPITULO_DIAG1</th>\n",
       "      <th>GLOSA_CAPITULO_DIAG1</th>\n",
       "      <th>CODIGO_GRUPO_DIAG1</th>\n",
       "      <th>GLOSA_GRUPO_DIAG1</th>\n",
       "      <th>CODIGO_CATEGORIA_DIAG1</th>\n",
       "      <th>...</th>\n",
       "      <th>DIAG2</th>\n",
       "      <th>CAP_DIAG2</th>\n",
       "      <th>GLOSA_CAPITULO_DIAG2</th>\n",
       "      <th>CODIGO_GRUPO_DIAG2</th>\n",
       "      <th>GLOSA_GRUPO_DIAG2</th>\n",
       "      <th>CODIGO_CATEGORIA_DIAG2</th>\n",
       "      <th>GLOSA_CATEGORIA_DIAG2</th>\n",
       "      <th>CODIGO_SUBCATEGORIA_DIAG2</th>\n",
       "      <th>GLOSA_SUBCATEGORIA_DIAG2</th>\n",
       "      <th>lugar_def</th>\n",
       "    </tr>\n",
       "  </thead>\n",
       "  <tbody>\n",
       "    <tr>\n",
       "      <th>count</th>\n",
       "      <td>688917</td>\n",
       "      <td>688917</td>\n",
       "      <td>688917</td>\n",
       "      <td>688917</td>\n",
       "      <td>688917</td>\n",
       "      <td>688917</td>\n",
       "      <td>688917</td>\n",
       "      <td>688917</td>\n",
       "      <td>688917</td>\n",
       "      <td>688917</td>\n",
       "      <td>...</td>\n",
       "      <td>189057</td>\n",
       "      <td>46583</td>\n",
       "      <td>46583</td>\n",
       "      <td>46583</td>\n",
       "      <td>46583</td>\n",
       "      <td>46583</td>\n",
       "      <td>46583</td>\n",
       "      <td>46583</td>\n",
       "      <td>46583</td>\n",
       "      <td>688917</td>\n",
       "    </tr>\n",
       "    <tr>\n",
       "      <th>unique</th>\n",
       "      <td>2190</td>\n",
       "      <td>3</td>\n",
       "      <td>345</td>\n",
       "      <td>17</td>\n",
       "      <td>3037</td>\n",
       "      <td>20</td>\n",
       "      <td>20</td>\n",
       "      <td>199</td>\n",
       "      <td>199</td>\n",
       "      <td>974</td>\n",
       "      <td>...</td>\n",
       "      <td>733</td>\n",
       "      <td>1</td>\n",
       "      <td>1</td>\n",
       "      <td>32</td>\n",
       "      <td>32</td>\n",
       "      <td>231</td>\n",
       "      <td>231</td>\n",
       "      <td>732</td>\n",
       "      <td>730</td>\n",
       "      <td>3</td>\n",
       "    </tr>\n",
       "    <tr>\n",
       "      <th>top</th>\n",
       "      <td>2020-06-14</td>\n",
       "      <td>Hombre</td>\n",
       "      <td>Puente Alto</td>\n",
       "      <td>Metropolitana de Santiago</td>\n",
       "      <td>U071</td>\n",
       "      <td>I00-I99</td>\n",
       "      <td>Enfermedades del sistema circulatorio</td>\n",
       "      <td>C15-C26</td>\n",
       "      <td>Tumores malignos de los órganos digestivos</td>\n",
       "      <td>U07</td>\n",
       "      <td>...</td>\n",
       "      <td></td>\n",
       "      <td>V01-Y98</td>\n",
       "      <td>Causas externas de morbilidad y de mortalidad</td>\n",
       "      <td>X60-X84</td>\n",
       "      <td>Lesiones autoinfligidas intencionalmente</td>\n",
       "      <td>X70</td>\n",
       "      <td>Lesión autoinfligida intencionalmente por ahor...</td>\n",
       "      <td>X599</td>\n",
       "      <td>EXPOSICIÓN A FACTORES NO ESPECIFICADOS QUE CAU...</td>\n",
       "      <td>Casa habitación</td>\n",
       "    </tr>\n",
       "    <tr>\n",
       "      <th>freq</th>\n",
       "      <td>588</td>\n",
       "      <td>364323</td>\n",
       "      <td>17030</td>\n",
       "      <td>264040</td>\n",
       "      <td>39140</td>\n",
       "      <td>169538</td>\n",
       "      <td>169538</td>\n",
       "      <td>66420</td>\n",
       "      <td>66420</td>\n",
       "      <td>50142</td>\n",
       "      <td>...</td>\n",
       "      <td>142474</td>\n",
       "      <td>46583</td>\n",
       "      <td>46583</td>\n",
       "      <td>10549</td>\n",
       "      <td>10549</td>\n",
       "      <td>9414</td>\n",
       "      <td>9414</td>\n",
       "      <td>4488</td>\n",
       "      <td>4488</td>\n",
       "      <td>324940</td>\n",
       "    </tr>\n",
       "  </tbody>\n",
       "</table>\n",
       "<p>4 rows × 23 columns</p>\n",
       "</div>"
      ],
      "text/plain": [
       "         Fecha_def    Sexo     Com_resi                   Reg_resi  \\\n",
       "count       688917  688917       688917                     688917   \n",
       "unique        2190       3          345                         17   \n",
       "top     2020-06-14  Hombre  Puente Alto  Metropolitana de Santiago   \n",
       "freq           588  364323        17030                     264040   \n",
       "\n",
       "       Causa_bas_def CAPITULO_DIAG1                    GLOSA_CAPITULO_DIAG1  \\\n",
       "count         688917         688917                                  688917   \n",
       "unique          3037             20                                      20   \n",
       "top             U071        I00-I99  Enfermedades del sistema circulatorio    \n",
       "freq           39140         169538                                  169538   \n",
       "\n",
       "       CODIGO_GRUPO_DIAG1                           GLOSA_GRUPO_DIAG1  \\\n",
       "count              688917                                      688917   \n",
       "unique                199                                         199   \n",
       "top               C15-C26  Tumores malignos de los órganos digestivos   \n",
       "freq                66420                                       66420   \n",
       "\n",
       "       CODIGO_CATEGORIA_DIAG1  ...   DIAG2 CAP_DIAG2  \\\n",
       "count                  688917  ...  189057     46583   \n",
       "unique                    974  ...     733         1   \n",
       "top                       U07  ...           V01-Y98   \n",
       "freq                    50142  ...  142474     46583   \n",
       "\n",
       "                                 GLOSA_CAPITULO_DIAG2 CODIGO_GRUPO_DIAG2  \\\n",
       "count                                           46583              46583   \n",
       "unique                                              1                 32   \n",
       "top     Causas externas de morbilidad y de mortalidad            X60-X84   \n",
       "freq                                            46583              10549   \n",
       "\n",
       "                                GLOSA_GRUPO_DIAG2 CODIGO_CATEGORIA_DIAG2  \\\n",
       "count                                       46583                  46583   \n",
       "unique                                         32                    231   \n",
       "top     Lesiones autoinfligidas intencionalmente                     X70   \n",
       "freq                                        10549                   9414   \n",
       "\n",
       "                                    GLOSA_CATEGORIA_DIAG2  \\\n",
       "count                                               46583   \n",
       "unique                                                231   \n",
       "top     Lesión autoinfligida intencionalmente por ahor...   \n",
       "freq                                                 9414   \n",
       "\n",
       "       CODIGO_SUBCATEGORIA_DIAG2  \\\n",
       "count                      46583   \n",
       "unique                       732   \n",
       "top                         X599   \n",
       "freq                        4488   \n",
       "\n",
       "                                 GLOSA_SUBCATEGORIA_DIAG2        lugar_def  \n",
       "count                                               46583           688917  \n",
       "unique                                                730                3  \n",
       "top     EXPOSICIÓN A FACTORES NO ESPECIFICADOS QUE CAU...  Casa habitación  \n",
       "freq                                                 4488           324940  \n",
       "\n",
       "[4 rows x 23 columns]"
      ]
     },
     "execution_count": 17,
     "metadata": {},
     "output_type": "execute_result"
    }
   ],
   "source": [
    "df.describe(include=[object])"
   ]
  },
  {
   "cell_type": "markdown",
   "id": "97729b1b-5d96-40cc-b6bc-32d4a887c343",
   "metadata": {},
   "source": [
    " "
   ]
  },
  {
   "cell_type": "markdown",
   "id": "3154b53e-8507-4512-98b5-ffbd483db605",
   "metadata": {},
   "source": [
    "#### 2.2 Lectura y exploracion de DF1 \"defunciones entre 2021 y 2023\""
   ]
  },
  {
   "cell_type": "markdown",
   "id": "9317dd11",
   "metadata": {},
   "source": [
    "Cargamos el segundo set de defunciones entre 2021 y 2023, este dataset no tiene los encabezados de las columnas así que se las debemos dar según el archivo de diccionario. También vemos que tiene atributos con menos entradas no nulas y que concuerdan con las columnas del otro set, más adelante veremos que hacer con estos atributos, también vemos que no tienen atributo de id único."
   ]
  },
  {
   "cell_type": "code",
   "execution_count": 18,
   "id": "fd595a42-516a-48f9-904e-3e24c5a0ec23",
   "metadata": {},
   "outputs": [],
   "source": [
    "encabezadoColumnas = [\"ANO_DEF\", \"FECHA_DEF\",\"GLOSA_SEXO\",\"EDAD_TIPO\",\"EDAD_CANT\",\"CODIGO_COMUNA_RESIDENCIA\",\"GLOSA_COMUNA_RESIDENCIA\",\n",
    "                      \"GLOSA_REG_RES\",\"DIAG1\",\"CAPITULO_DIAG1\",\"GLOSA_CAPITULO_DIAG1\",\"CODIGO_GRUPO_DIAG1\",\"GLOSA_GRUPO_DIAG1\",\n",
    "                      \"CODIGO_CATEGORIA_DIAG1\",\"GLOSA_CATEGORIA_DIAG1\",\"CODIGO_SUBCATEGORIA_DIAG1\",\"GLOSA_SUBCATEGORIA_DIAG1\",\"DIAG2\"\n",
    "                      \"CAPITULO_DIAG2\",\"GLOSA_CAPITULO_DIAG2\",\"CODIGO_GRUPO_DIAG2\",\"GLOSA_GRUPO_DIAG2\",\"CODIGO_CATEGORIA_DIAG2\",\n",
    "                      \"GLOSA_CATEGORIA_DIAG2\",\"CODIGO_SUBCATEGORIA_DIAG2\",\"GLOSA_SUBCATEGORIA_DIAG2\",\" \",\"LUGAR_DEFUNCION\"]"
   ]
  },
  {
   "cell_type": "code",
   "execution_count": 19,
   "id": "01615a6d-0afb-48d9-92ad-22399b50af8d",
   "metadata": {},
   "outputs": [],
   "source": [
    "df2 = pd.read_csv(\"DEFUNCIONES_FUENTE_DEIS_2021_2023_30122023.csv\", index_col=False, names=encabezadoColumnas, sep=';', encoding='latin-1')"
   ]
  },
  {
   "cell_type": "code",
   "execution_count": 20,
   "id": "406acfb3-c024-49ff-953a-83f5829bd26e",
   "metadata": {},
   "outputs": [
    {
     "data": {
      "text/html": [
       "<div>\n",
       "<style scoped>\n",
       "    .dataframe tbody tr th:only-of-type {\n",
       "        vertical-align: middle;\n",
       "    }\n",
       "\n",
       "    .dataframe tbody tr th {\n",
       "        vertical-align: top;\n",
       "    }\n",
       "\n",
       "    .dataframe thead th {\n",
       "        text-align: right;\n",
       "    }\n",
       "</style>\n",
       "<table border=\"1\" class=\"dataframe\">\n",
       "  <thead>\n",
       "    <tr style=\"text-align: right;\">\n",
       "      <th></th>\n",
       "      <th>ANO_DEF</th>\n",
       "      <th>FECHA_DEF</th>\n",
       "      <th>GLOSA_SEXO</th>\n",
       "      <th>EDAD_TIPO</th>\n",
       "      <th>EDAD_CANT</th>\n",
       "      <th>CODIGO_COMUNA_RESIDENCIA</th>\n",
       "      <th>GLOSA_COMUNA_RESIDENCIA</th>\n",
       "      <th>GLOSA_REG_RES</th>\n",
       "      <th>DIAG1</th>\n",
       "      <th>CAPITULO_DIAG1</th>\n",
       "      <th>...</th>\n",
       "      <th>DIAG2CAPITULO_DIAG2</th>\n",
       "      <th>GLOSA_CAPITULO_DIAG2</th>\n",
       "      <th>CODIGO_GRUPO_DIAG2</th>\n",
       "      <th>GLOSA_GRUPO_DIAG2</th>\n",
       "      <th>CODIGO_CATEGORIA_DIAG2</th>\n",
       "      <th>GLOSA_CATEGORIA_DIAG2</th>\n",
       "      <th>CODIGO_SUBCATEGORIA_DIAG2</th>\n",
       "      <th>GLOSA_SUBCATEGORIA_DIAG2</th>\n",
       "      <th></th>\n",
       "      <th>LUGAR_DEFUNCION</th>\n",
       "    </tr>\n",
       "  </thead>\n",
       "  <tbody>\n",
       "    <tr>\n",
       "      <th>0</th>\n",
       "      <td>2023</td>\n",
       "      <td>2023-06-24</td>\n",
       "      <td>Mujer</td>\n",
       "      <td>1</td>\n",
       "      <td>91</td>\n",
       "      <td>13132</td>\n",
       "      <td>Vitacura</td>\n",
       "      <td>Metropolitana de Santiago</td>\n",
       "      <td>U071</td>\n",
       "      <td>U00-U99</td>\n",
       "      <td>...</td>\n",
       "      <td></td>\n",
       "      <td>NaN</td>\n",
       "      <td>NaN</td>\n",
       "      <td>NaN</td>\n",
       "      <td>NaN</td>\n",
       "      <td>NaN</td>\n",
       "      <td>NaN</td>\n",
       "      <td>NaN</td>\n",
       "      <td>NaN</td>\n",
       "      <td>Casa habitación</td>\n",
       "    </tr>\n",
       "    <tr>\n",
       "      <th>1</th>\n",
       "      <td>2023</td>\n",
       "      <td>2023-05-13</td>\n",
       "      <td>Hombre</td>\n",
       "      <td>1</td>\n",
       "      <td>58</td>\n",
       "      <td>6305</td>\n",
       "      <td>Nancagua</td>\n",
       "      <td>Del Libertador B. O'Higgins</td>\n",
       "      <td>I619</td>\n",
       "      <td>I00-I99</td>\n",
       "      <td>...</td>\n",
       "      <td>NaN</td>\n",
       "      <td>NaN</td>\n",
       "      <td>NaN</td>\n",
       "      <td>NaN</td>\n",
       "      <td>NaN</td>\n",
       "      <td>NaN</td>\n",
       "      <td>NaN</td>\n",
       "      <td>NaN</td>\n",
       "      <td>NaN</td>\n",
       "      <td>Hospital o Clínica</td>\n",
       "    </tr>\n",
       "    <tr>\n",
       "      <th>2</th>\n",
       "      <td>2023</td>\n",
       "      <td>2023-11-15</td>\n",
       "      <td>Mujer</td>\n",
       "      <td>1</td>\n",
       "      <td>64</td>\n",
       "      <td>5103</td>\n",
       "      <td>Concón</td>\n",
       "      <td>De Valparaíso</td>\n",
       "      <td>K859</td>\n",
       "      <td>K00-K93</td>\n",
       "      <td>...</td>\n",
       "      <td>NaN</td>\n",
       "      <td>NaN</td>\n",
       "      <td>NaN</td>\n",
       "      <td>NaN</td>\n",
       "      <td>NaN</td>\n",
       "      <td>NaN</td>\n",
       "      <td>NaN</td>\n",
       "      <td>NaN</td>\n",
       "      <td>NaN</td>\n",
       "      <td>Hospital o Clínica</td>\n",
       "    </tr>\n",
       "    <tr>\n",
       "      <th>3</th>\n",
       "      <td>2023</td>\n",
       "      <td>2023-08-31</td>\n",
       "      <td>Hombre</td>\n",
       "      <td>1</td>\n",
       "      <td>36</td>\n",
       "      <td>2101</td>\n",
       "      <td>Antofagasta</td>\n",
       "      <td>De Antofagasta</td>\n",
       "      <td>K922</td>\n",
       "      <td>K00-K93</td>\n",
       "      <td>...</td>\n",
       "      <td></td>\n",
       "      <td>NaN</td>\n",
       "      <td>NaN</td>\n",
       "      <td>NaN</td>\n",
       "      <td>NaN</td>\n",
       "      <td>NaN</td>\n",
       "      <td>NaN</td>\n",
       "      <td>NaN</td>\n",
       "      <td>NaN</td>\n",
       "      <td>Hospital o Clínica</td>\n",
       "    </tr>\n",
       "    <tr>\n",
       "      <th>4</th>\n",
       "      <td>2023</td>\n",
       "      <td>2023-11-19</td>\n",
       "      <td>Mujer</td>\n",
       "      <td>1</td>\n",
       "      <td>82</td>\n",
       "      <td>5501</td>\n",
       "      <td>Quillota</td>\n",
       "      <td>De Valparaíso</td>\n",
       "      <td>I219</td>\n",
       "      <td>I00-I99</td>\n",
       "      <td>...</td>\n",
       "      <td></td>\n",
       "      <td>NaN</td>\n",
       "      <td>NaN</td>\n",
       "      <td>NaN</td>\n",
       "      <td>NaN</td>\n",
       "      <td>NaN</td>\n",
       "      <td>NaN</td>\n",
       "      <td>NaN</td>\n",
       "      <td>NaN</td>\n",
       "      <td>Casa habitación</td>\n",
       "    </tr>\n",
       "  </tbody>\n",
       "</table>\n",
       "<p>5 rows × 27 columns</p>\n",
       "</div>"
      ],
      "text/plain": [
       "   ANO_DEF   FECHA_DEF GLOSA_SEXO  EDAD_TIPO  EDAD_CANT  \\\n",
       "0     2023  2023-06-24      Mujer          1         91   \n",
       "1     2023  2023-05-13     Hombre          1         58   \n",
       "2     2023  2023-11-15      Mujer          1         64   \n",
       "3     2023  2023-08-31     Hombre          1         36   \n",
       "4     2023  2023-11-19      Mujer          1         82   \n",
       "\n",
       "   CODIGO_COMUNA_RESIDENCIA GLOSA_COMUNA_RESIDENCIA  \\\n",
       "0                     13132                Vitacura   \n",
       "1                      6305                Nancagua   \n",
       "2                      5103                  Concón   \n",
       "3                      2101             Antofagasta   \n",
       "4                      5501                Quillota   \n",
       "\n",
       "                 GLOSA_REG_RES DIAG1 CAPITULO_DIAG1  ... DIAG2CAPITULO_DIAG2  \\\n",
       "0    Metropolitana de Santiago  U071        U00-U99  ...                       \n",
       "1  Del Libertador B. O'Higgins  I619        I00-I99  ...                 NaN   \n",
       "2                De Valparaíso  K859        K00-K93  ...                 NaN   \n",
       "3               De Antofagasta  K922        K00-K93  ...                       \n",
       "4                De Valparaíso  I219        I00-I99  ...                       \n",
       "\n",
       "  GLOSA_CAPITULO_DIAG2 CODIGO_GRUPO_DIAG2 GLOSA_GRUPO_DIAG2  \\\n",
       "0                  NaN                NaN               NaN   \n",
       "1                  NaN                NaN               NaN   \n",
       "2                  NaN                NaN               NaN   \n",
       "3                  NaN                NaN               NaN   \n",
       "4                  NaN                NaN               NaN   \n",
       "\n",
       "  CODIGO_CATEGORIA_DIAG2 GLOSA_CATEGORIA_DIAG2 CODIGO_SUBCATEGORIA_DIAG2  \\\n",
       "0                    NaN                   NaN                       NaN   \n",
       "1                    NaN                   NaN                       NaN   \n",
       "2                    NaN                   NaN                       NaN   \n",
       "3                    NaN                   NaN                       NaN   \n",
       "4                    NaN                   NaN                       NaN   \n",
       "\n",
       "  GLOSA_SUBCATEGORIA_DIAG2          LUGAR_DEFUNCION  \n",
       "0                      NaN  NaN     Casa habitación  \n",
       "1                      NaN  NaN  Hospital o Clínica  \n",
       "2                      NaN  NaN  Hospital o Clínica  \n",
       "3                      NaN  NaN  Hospital o Clínica  \n",
       "4                      NaN  NaN     Casa habitación  \n",
       "\n",
       "[5 rows x 27 columns]"
      ]
     },
     "execution_count": 20,
     "metadata": {},
     "output_type": "execute_result"
    }
   ],
   "source": [
    "df2.head()"
   ]
  },
  {
   "cell_type": "code",
   "execution_count": 21,
   "id": "39f6a3bc-62eb-42f4-af09-d13688f7da6c",
   "metadata": {},
   "outputs": [
    {
     "name": "stdout",
     "output_type": "stream",
     "text": [
      "<class 'pandas.core.frame.DataFrame'>\n",
      "RangeIndex: 395319 entries, 0 to 395318\n",
      "Data columns (total 27 columns):\n",
      " #   Column                     Non-Null Count   Dtype \n",
      "---  ------                     --------------   ----- \n",
      " 0   ANO_DEF                    395319 non-null  int64 \n",
      " 1   FECHA_DEF                  395319 non-null  object\n",
      " 2   GLOSA_SEXO                 395319 non-null  object\n",
      " 3   EDAD_TIPO                  395319 non-null  int64 \n",
      " 4   EDAD_CANT                  395319 non-null  int64 \n",
      " 5   CODIGO_COMUNA_RESIDENCIA   395319 non-null  int64 \n",
      " 6   GLOSA_COMUNA_RESIDENCIA    395319 non-null  object\n",
      " 7   GLOSA_REG_RES              395319 non-null  object\n",
      " 8   DIAG1                      395319 non-null  object\n",
      " 9   CAPITULO_DIAG1             395319 non-null  object\n",
      " 10  GLOSA_CAPITULO_DIAG1       395319 non-null  object\n",
      " 11  CODIGO_GRUPO_DIAG1         395319 non-null  object\n",
      " 12  GLOSA_GRUPO_DIAG1          395319 non-null  object\n",
      " 13  CODIGO_CATEGORIA_DIAG1     395319 non-null  object\n",
      " 14  GLOSA_CATEGORIA_DIAG1      395319 non-null  object\n",
      " 15  CODIGO_SUBCATEGORIA_DIAG1  395319 non-null  object\n",
      " 16  GLOSA_SUBCATEGORIA_DIAG1   395319 non-null  object\n",
      " 17  DIAG2CAPITULO_DIAG2        184964 non-null  object\n",
      " 18  GLOSA_CAPITULO_DIAG2       24424 non-null   object\n",
      " 19  CODIGO_GRUPO_DIAG2         24424 non-null   object\n",
      " 20  GLOSA_GRUPO_DIAG2          24424 non-null   object\n",
      " 21  CODIGO_CATEGORIA_DIAG2     24424 non-null   object\n",
      " 22  GLOSA_CATEGORIA_DIAG2      24424 non-null   object\n",
      " 23  CODIGO_SUBCATEGORIA_DIAG2  24424 non-null   object\n",
      " 24  GLOSA_SUBCATEGORIA_DIAG2   24424 non-null   object\n",
      " 25                             24424 non-null   object\n",
      " 26  LUGAR_DEFUNCION            395319 non-null  object\n",
      "dtypes: int64(4), object(23)\n",
      "memory usage: 81.4+ MB\n"
     ]
    }
   ],
   "source": [
    "df2.info()"
   ]
  },
  {
   "cell_type": "code",
   "execution_count": 22,
   "id": "f44d27fe-446d-4b94-99e0-d9d661f4c0bb",
   "metadata": {},
   "outputs": [
    {
     "data": {
      "text/plain": [
       "Index(['ANO_DEF', 'FECHA_DEF', 'GLOSA_SEXO', 'EDAD_TIPO', 'EDAD_CANT',\n",
       "       'CODIGO_COMUNA_RESIDENCIA', 'GLOSA_COMUNA_RESIDENCIA', 'GLOSA_REG_RES',\n",
       "       'DIAG1', 'CAPITULO_DIAG1', 'GLOSA_CAPITULO_DIAG1', 'CODIGO_GRUPO_DIAG1',\n",
       "       'GLOSA_GRUPO_DIAG1', 'CODIGO_CATEGORIA_DIAG1', 'GLOSA_CATEGORIA_DIAG1',\n",
       "       'CODIGO_SUBCATEGORIA_DIAG1', 'GLOSA_SUBCATEGORIA_DIAG1',\n",
       "       'DIAG2CAPITULO_DIAG2', 'GLOSA_CAPITULO_DIAG2', 'CODIGO_GRUPO_DIAG2',\n",
       "       'GLOSA_GRUPO_DIAG2', 'CODIGO_CATEGORIA_DIAG2', 'GLOSA_CATEGORIA_DIAG2',\n",
       "       'CODIGO_SUBCATEGORIA_DIAG2', 'GLOSA_SUBCATEGORIA_DIAG2', ' ',\n",
       "       'LUGAR_DEFUNCION'],\n",
       "      dtype='object')"
      ]
     },
     "execution_count": 22,
     "metadata": {},
     "output_type": "execute_result"
    }
   ],
   "source": [
    "df2.columns"
   ]
  },
  {
   "cell_type": "code",
   "execution_count": 23,
   "id": "3ee398a4-6bf2-49f7-9224-1123b142c95f",
   "metadata": {},
   "outputs": [
    {
     "data": {
      "text/html": [
       "<div>\n",
       "<style scoped>\n",
       "    .dataframe tbody tr th:only-of-type {\n",
       "        vertical-align: middle;\n",
       "    }\n",
       "\n",
       "    .dataframe tbody tr th {\n",
       "        vertical-align: top;\n",
       "    }\n",
       "\n",
       "    .dataframe thead th {\n",
       "        text-align: right;\n",
       "    }\n",
       "</style>\n",
       "<table border=\"1\" class=\"dataframe\">\n",
       "  <thead>\n",
       "    <tr style=\"text-align: right;\">\n",
       "      <th></th>\n",
       "      <th>ANO_DEF</th>\n",
       "      <th>EDAD_TIPO</th>\n",
       "      <th>EDAD_CANT</th>\n",
       "      <th>CODIGO_COMUNA_RESIDENCIA</th>\n",
       "    </tr>\n",
       "  </thead>\n",
       "  <tbody>\n",
       "    <tr>\n",
       "      <th>count</th>\n",
       "      <td>395319.000000</td>\n",
       "      <td>395319.000000</td>\n",
       "      <td>395319.000000</td>\n",
       "      <td>395319.000000</td>\n",
       "    </tr>\n",
       "    <tr>\n",
       "      <th>mean</th>\n",
       "      <td>2021.958573</td>\n",
       "      <td>1.017806</td>\n",
       "      <td>72.948244</td>\n",
       "      <td>9746.273017</td>\n",
       "    </tr>\n",
       "    <tr>\n",
       "      <th>std</th>\n",
       "      <td>0.807542</td>\n",
       "      <td>0.208465</td>\n",
       "      <td>18.078466</td>\n",
       "      <td>4010.178915</td>\n",
       "    </tr>\n",
       "    <tr>\n",
       "      <th>min</th>\n",
       "      <td>2021.000000</td>\n",
       "      <td>0.000000</td>\n",
       "      <td>0.000000</td>\n",
       "      <td>1101.000000</td>\n",
       "    </tr>\n",
       "    <tr>\n",
       "      <th>25%</th>\n",
       "      <td>2021.000000</td>\n",
       "      <td>1.000000</td>\n",
       "      <td>64.000000</td>\n",
       "      <td>6115.000000</td>\n",
       "    </tr>\n",
       "    <tr>\n",
       "      <th>50%</th>\n",
       "      <td>2022.000000</td>\n",
       "      <td>1.000000</td>\n",
       "      <td>77.000000</td>\n",
       "      <td>10101.000000</td>\n",
       "    </tr>\n",
       "    <tr>\n",
       "      <th>75%</th>\n",
       "      <td>2023.000000</td>\n",
       "      <td>1.000000</td>\n",
       "      <td>86.000000</td>\n",
       "      <td>13121.000000</td>\n",
       "    </tr>\n",
       "    <tr>\n",
       "      <th>max</th>\n",
       "      <td>2023.000000</td>\n",
       "      <td>9.000000</td>\n",
       "      <td>123.000000</td>\n",
       "      <td>99999.000000</td>\n",
       "    </tr>\n",
       "  </tbody>\n",
       "</table>\n",
       "</div>"
      ],
      "text/plain": [
       "             ANO_DEF      EDAD_TIPO      EDAD_CANT  CODIGO_COMUNA_RESIDENCIA\n",
       "count  395319.000000  395319.000000  395319.000000             395319.000000\n",
       "mean     2021.958573       1.017806      72.948244               9746.273017\n",
       "std         0.807542       0.208465      18.078466               4010.178915\n",
       "min      2021.000000       0.000000       0.000000               1101.000000\n",
       "25%      2021.000000       1.000000      64.000000               6115.000000\n",
       "50%      2022.000000       1.000000      77.000000              10101.000000\n",
       "75%      2023.000000       1.000000      86.000000              13121.000000\n",
       "max      2023.000000       9.000000     123.000000              99999.000000"
      ]
     },
     "execution_count": 23,
     "metadata": {},
     "output_type": "execute_result"
    }
   ],
   "source": [
    "df2.describe()"
   ]
  },
  {
   "cell_type": "code",
   "execution_count": 24,
   "id": "16dbc187-16fb-4f6f-980d-4f9601b39535",
   "metadata": {},
   "outputs": [
    {
     "data": {
      "text/html": [
       "<div>\n",
       "<style scoped>\n",
       "    .dataframe tbody tr th:only-of-type {\n",
       "        vertical-align: middle;\n",
       "    }\n",
       "\n",
       "    .dataframe tbody tr th {\n",
       "        vertical-align: top;\n",
       "    }\n",
       "\n",
       "    .dataframe thead th {\n",
       "        text-align: right;\n",
       "    }\n",
       "</style>\n",
       "<table border=\"1\" class=\"dataframe\">\n",
       "  <thead>\n",
       "    <tr style=\"text-align: right;\">\n",
       "      <th></th>\n",
       "      <th>FECHA_DEF</th>\n",
       "      <th>GLOSA_SEXO</th>\n",
       "      <th>GLOSA_COMUNA_RESIDENCIA</th>\n",
       "      <th>GLOSA_REG_RES</th>\n",
       "      <th>DIAG1</th>\n",
       "      <th>CAPITULO_DIAG1</th>\n",
       "      <th>GLOSA_CAPITULO_DIAG1</th>\n",
       "      <th>CODIGO_GRUPO_DIAG1</th>\n",
       "      <th>GLOSA_GRUPO_DIAG1</th>\n",
       "      <th>CODIGO_CATEGORIA_DIAG1</th>\n",
       "      <th>...</th>\n",
       "      <th>DIAG2CAPITULO_DIAG2</th>\n",
       "      <th>GLOSA_CAPITULO_DIAG2</th>\n",
       "      <th>CODIGO_GRUPO_DIAG2</th>\n",
       "      <th>GLOSA_GRUPO_DIAG2</th>\n",
       "      <th>CODIGO_CATEGORIA_DIAG2</th>\n",
       "      <th>GLOSA_CATEGORIA_DIAG2</th>\n",
       "      <th>CODIGO_SUBCATEGORIA_DIAG2</th>\n",
       "      <th>GLOSA_SUBCATEGORIA_DIAG2</th>\n",
       "      <th></th>\n",
       "      <th>LUGAR_DEFUNCION</th>\n",
       "    </tr>\n",
       "  </thead>\n",
       "  <tbody>\n",
       "    <tr>\n",
       "      <th>count</th>\n",
       "      <td>395319</td>\n",
       "      <td>395319</td>\n",
       "      <td>395319</td>\n",
       "      <td>395319</td>\n",
       "      <td>395319</td>\n",
       "      <td>395319</td>\n",
       "      <td>395319</td>\n",
       "      <td>395319</td>\n",
       "      <td>395319</td>\n",
       "      <td>395319</td>\n",
       "      <td>...</td>\n",
       "      <td>184964</td>\n",
       "      <td>24424</td>\n",
       "      <td>24424</td>\n",
       "      <td>24424</td>\n",
       "      <td>24424</td>\n",
       "      <td>24424</td>\n",
       "      <td>24424</td>\n",
       "      <td>24424</td>\n",
       "      <td>24424</td>\n",
       "      <td>395319</td>\n",
       "    </tr>\n",
       "    <tr>\n",
       "      <th>unique</th>\n",
       "      <td>1093</td>\n",
       "      <td>3</td>\n",
       "      <td>344</td>\n",
       "      <td>17</td>\n",
       "      <td>2604</td>\n",
       "      <td>20</td>\n",
       "      <td>20</td>\n",
       "      <td>196</td>\n",
       "      <td>196</td>\n",
       "      <td>934</td>\n",
       "      <td>...</td>\n",
       "      <td>380</td>\n",
       "      <td>1</td>\n",
       "      <td>1</td>\n",
       "      <td>31</td>\n",
       "      <td>31</td>\n",
       "      <td>163</td>\n",
       "      <td>163</td>\n",
       "      <td>379</td>\n",
       "      <td>379</td>\n",
       "      <td>3</td>\n",
       "    </tr>\n",
       "    <tr>\n",
       "      <th>top</th>\n",
       "      <td>2021-06-30</td>\n",
       "      <td>Hombre</td>\n",
       "      <td>Puente Alto</td>\n",
       "      <td>Metropolitana de Santiago</td>\n",
       "      <td>U071</td>\n",
       "      <td>I00-I99</td>\n",
       "      <td>Enfermedades del sistema circulatorio</td>\n",
       "      <td>U00-U49</td>\n",
       "      <td>Asignación provisoria de nuevas afecciones de ...</td>\n",
       "      <td>U07</td>\n",
       "      <td>...</td>\n",
       "      <td></td>\n",
       "      <td>V01-Y98</td>\n",
       "      <td>Causas externas de morbilidad y de mortalidad</td>\n",
       "      <td>X60-X84</td>\n",
       "      <td>Lesiones autoinfligidas intencionalmente</td>\n",
       "      <td>X70</td>\n",
       "      <td>Lesión autoinfligida intencionalmente por ahor...</td>\n",
       "      <td>X599</td>\n",
       "      <td>EXPOSICIÓN A FACTORES NO ESPECIFICADOS QUE CAU...</td>\n",
       "      <td>Casa habitación</td>\n",
       "    </tr>\n",
       "    <tr>\n",
       "      <th>freq</th>\n",
       "      <td>507</td>\n",
       "      <td>207980</td>\n",
       "      <td>9633</td>\n",
       "      <td>145663</td>\n",
       "      <td>37161</td>\n",
       "      <td>90600</td>\n",
       "      <td>90600</td>\n",
       "      <td>43745</td>\n",
       "      <td>43745</td>\n",
       "      <td>43606</td>\n",
       "      <td>...</td>\n",
       "      <td>160540</td>\n",
       "      <td>24424</td>\n",
       "      <td>24424</td>\n",
       "      <td>5542</td>\n",
       "      <td>5542</td>\n",
       "      <td>5043</td>\n",
       "      <td>5043</td>\n",
       "      <td>3345</td>\n",
       "      <td>3345</td>\n",
       "      <td>196039</td>\n",
       "    </tr>\n",
       "  </tbody>\n",
       "</table>\n",
       "<p>4 rows × 23 columns</p>\n",
       "</div>"
      ],
      "text/plain": [
       "         FECHA_DEF GLOSA_SEXO GLOSA_COMUNA_RESIDENCIA  \\\n",
       "count       395319     395319                  395319   \n",
       "unique        1093          3                     344   \n",
       "top     2021-06-30     Hombre             Puente Alto   \n",
       "freq           507     207980                    9633   \n",
       "\n",
       "                    GLOSA_REG_RES   DIAG1 CAPITULO_DIAG1  \\\n",
       "count                      395319  395319         395319   \n",
       "unique                         17    2604             20   \n",
       "top     Metropolitana de Santiago    U071        I00-I99   \n",
       "freq                       145663   37161          90600   \n",
       "\n",
       "                          GLOSA_CAPITULO_DIAG1 CODIGO_GRUPO_DIAG1  \\\n",
       "count                                   395319             395319   \n",
       "unique                                      20                196   \n",
       "top     Enfermedades del sistema circulatorio             U00-U49   \n",
       "freq                                     90600              43745   \n",
       "\n",
       "                                        GLOSA_GRUPO_DIAG1  \\\n",
       "count                                              395319   \n",
       "unique                                                196   \n",
       "top     Asignación provisoria de nuevas afecciones de ...   \n",
       "freq                                                43745   \n",
       "\n",
       "       CODIGO_CATEGORIA_DIAG1  ... DIAG2CAPITULO_DIAG2 GLOSA_CAPITULO_DIAG2  \\\n",
       "count                  395319  ...              184964                24424   \n",
       "unique                    934  ...                 380                    1   \n",
       "top                       U07  ...                                  V01-Y98   \n",
       "freq                    43606  ...              160540                24424   \n",
       "\n",
       "                                   CODIGO_GRUPO_DIAG2 GLOSA_GRUPO_DIAG2  \\\n",
       "count                                           24424             24424   \n",
       "unique                                              1                31   \n",
       "top     Causas externas de morbilidad y de mortalidad           X60-X84   \n",
       "freq                                            24424              5542   \n",
       "\n",
       "                           CODIGO_CATEGORIA_DIAG2 GLOSA_CATEGORIA_DIAG2  \\\n",
       "count                                       24424                 24424   \n",
       "unique                                         31                   163   \n",
       "top     Lesiones autoinfligidas intencionalmente                    X70   \n",
       "freq                                         5542                  5043   \n",
       "\n",
       "                                CODIGO_SUBCATEGORIA_DIAG2  \\\n",
       "count                                               24424   \n",
       "unique                                                163   \n",
       "top     Lesión autoinfligida intencionalmente por ahor...   \n",
       "freq                                                 5043   \n",
       "\n",
       "       GLOSA_SUBCATEGORIA_DIAG2  \\\n",
       "count                     24424   \n",
       "unique                      379   \n",
       "top                        X599   \n",
       "freq                       3345   \n",
       "\n",
       "                                                           LUGAR_DEFUNCION  \n",
       "count                                               24424           395319  \n",
       "unique                                                379                3  \n",
       "top     EXPOSICIÓN A FACTORES NO ESPECIFICADOS QUE CAU...  Casa habitación  \n",
       "freq                                                 3345           196039  \n",
       "\n",
       "[4 rows x 23 columns]"
      ]
     },
     "execution_count": 24,
     "metadata": {},
     "output_type": "execute_result"
    }
   ],
   "source": [
    "df2.describe(include=[object])"
   ]
  },
  {
   "cell_type": "markdown",
   "id": "6800b6b9-46a6-44aa-8f17-c8599996b1f0",
   "metadata": {},
   "source": [
    "---\n",
    "### 3. Procesamiento base de datos"
   ]
  },
  {
   "cell_type": "markdown",
   "id": "d5e59946-0d95-42aa-9460-1f54b1fcf1e2",
   "metadata": {},
   "source": [
    "#### 3.1 Procesamiento de DF1"
   ]
  },
  {
   "cell_type": "markdown",
   "id": "efc21e5c",
   "metadata": {},
   "source": [
    "Iniciamos el procesamiento revisando los valores nulos, vemos que tenemos varios atributos donde el 73% a el 93% de los datos son nulos, es un porcentaje alto así que eliminaremos esos atributos. También vemos que no hay datos \"unknown\". Por último, aprovechamos de eliminar la columna de id."
   ]
  },
  {
   "cell_type": "code",
   "execution_count": 25,
   "id": "11202aed-c717-417e-a499-70e808bba378",
   "metadata": {},
   "outputs": [
    {
     "data": {
      "text/plain": [
       "Unnamed: 0                    0.000000\n",
       "Año                           0.000000\n",
       "Fecha_def                     0.000000\n",
       "Sexo                          0.000000\n",
       "Edad                          0.000000\n",
       "Edad_num                      0.000000\n",
       "Cod_com_res                   0.000000\n",
       "Com_resi                      0.000000\n",
       "Reg_resi                      0.000000\n",
       "Causa_bas_def                 0.000000\n",
       "CAPITULO_DIAG1                0.000000\n",
       "GLOSA_CAPITULO_DIAG1          0.000000\n",
       "CODIGO_GRUPO_DIAG1            0.000000\n",
       "GLOSA_GRUPO_DIAG1             0.000000\n",
       "CODIGO_CATEGORIA_DIAG1        0.000000\n",
       "GLOSA_CATEGORIA_DIAG1         0.000000\n",
       "CODIGO_SUBCATEGORIA_DIAG1     0.000000\n",
       "GLOSA_SUBCATEGORIA_DIAG1      0.000000\n",
       "DIAG2                        72.557362\n",
       "CAP_DIAG2                    93.238228\n",
       "GLOSA_CAPITULO_DIAG2         93.238228\n",
       "CODIGO_GRUPO_DIAG2           93.238228\n",
       "GLOSA_GRUPO_DIAG2            93.238228\n",
       "CODIGO_CATEGORIA_DIAG2       93.238228\n",
       "GLOSA_CATEGORIA_DIAG2        93.238228\n",
       "CODIGO_SUBCATEGORIA_DIAG2    93.238228\n",
       "GLOSA_SUBCATEGORIA_DIAG2     93.238228\n",
       "lugar_def                     0.000000\n",
       "dtype: float64"
      ]
     },
     "execution_count": 25,
     "metadata": {},
     "output_type": "execute_result"
    }
   ],
   "source": [
    "df.isna().sum()/len(df['Unnamed: 0'])*100"
   ]
  },
  {
   "cell_type": "code",
   "execution_count": 26,
   "id": "aa2713ad-e813-4265-8aa0-36e55c7f6dbe",
   "metadata": {},
   "outputs": [],
   "source": [
    "columnasSinNaN = ['Año', 'Fecha_def', 'Sexo','Edad_num', 'Com_resi', 'Reg_resi',\"Causa_bas_def\", 'GLOSA_CAPITULO_DIAG1','GLOSA_GRUPO_DIAG1',\n",
    "                  'GLOSA_CATEGORIA_DIAG1','GLOSA_SUBCATEGORIA_DIAG1', 'lugar_def']"
   ]
  },
  {
   "cell_type": "code",
   "execution_count": 27,
   "id": "dfc13238-038f-43c2-9cc1-b5b112c0c809",
   "metadata": {},
   "outputs": [],
   "source": [
    "df = df[columnasSinNaN]"
   ]
  },
  {
   "cell_type": "code",
   "execution_count": 28,
   "id": "7ea893b9-c8a3-41a7-9aa7-07ae19c00ffe",
   "metadata": {},
   "outputs": [
    {
     "name": "stdout",
     "output_type": "stream",
     "text": [
      "Año: 0 datos unknown que representan el 0.0%\n",
      "Fecha_def: 0 datos unknown que representan el 0.0%\n",
      "Sexo: 0 datos unknown que representan el 0.0%\n",
      "Edad_num: 0 datos unknown que representan el 0.0%\n",
      "Com_resi: 0 datos unknown que representan el 0.0%\n",
      "Reg_resi: 0 datos unknown que representan el 0.0%\n",
      "Causa_bas_def: 0 datos unknown que representan el 0.0%\n",
      "GLOSA_CAPITULO_DIAG1: 0 datos unknown que representan el 0.0%\n",
      "GLOSA_GRUPO_DIAG1: 0 datos unknown que representan el 0.0%\n",
      "GLOSA_CATEGORIA_DIAG1: 0 datos unknown que representan el 0.0%\n",
      "GLOSA_SUBCATEGORIA_DIAG1: 0 datos unknown que representan el 0.0%\n",
      "lugar_def: 0 datos unknown que representan el 0.0%\n"
     ]
    }
   ],
   "source": [
    "encabezados = ['Año', 'Fecha_def', 'Sexo','Edad_num', 'Com_resi', 'Reg_resi',\"Causa_bas_def\", 'GLOSA_CAPITULO_DIAG1','GLOSA_GRUPO_DIAG1',\n",
    "                  'GLOSA_CATEGORIA_DIAG1','GLOSA_SUBCATEGORIA_DIAG1', 'lugar_def']\n",
    "for x in encabezados:\n",
    "    count = 0\n",
    "    for i in df[x]:\n",
    "        if i == \"unknown\":\n",
    "            count += 1\n",
    "        else:\n",
    "            continue\n",
    "    porcentaje = (count/df[x].count())*100\n",
    "    print(f\"{x}: {count} datos unknown que representan el {porcentaje}%\")"
   ]
  },
  {
   "cell_type": "markdown",
   "id": "2f4842be-fb1b-406b-b568-898a04af114f",
   "metadata": {},
   "source": [
    " "
   ]
  },
  {
   "cell_type": "markdown",
   "id": "d4f03443-2036-417f-80c1-3ebfa4789b0a",
   "metadata": {},
   "source": [
    "#### 3.2 Procesamiento de DF2"
   ]
  },
  {
   "cell_type": "markdown",
   "id": "fc92088f",
   "metadata": {},
   "source": [
    "Al igual que el otro set, veremos los datos nulos donde algunas columnas tienen de 53% a 94% de entradas nulos, es un porcentaje alto así eliminaremos esos atributos. También vemos que no hay datos \"unknown\"."
   ]
  },
  {
   "cell_type": "code",
   "execution_count": 29,
   "id": "60179452-3be0-419f-911b-24ffb82f0d28",
   "metadata": {},
   "outputs": [
    {
     "data": {
      "text/plain": [
       "ANO_DEF                       0.000000\n",
       "FECHA_DEF                     0.000000\n",
       "GLOSA_SEXO                    0.000000\n",
       "EDAD_TIPO                     0.000000\n",
       "EDAD_CANT                     0.000000\n",
       "CODIGO_COMUNA_RESIDENCIA      0.000000\n",
       "GLOSA_COMUNA_RESIDENCIA       0.000000\n",
       "GLOSA_REG_RES                 0.000000\n",
       "DIAG1                         0.000000\n",
       "CAPITULO_DIAG1                0.000000\n",
       "GLOSA_CAPITULO_DIAG1          0.000000\n",
       "CODIGO_GRUPO_DIAG1            0.000000\n",
       "GLOSA_GRUPO_DIAG1             0.000000\n",
       "CODIGO_CATEGORIA_DIAG1        0.000000\n",
       "GLOSA_CATEGORIA_DIAG1         0.000000\n",
       "CODIGO_SUBCATEGORIA_DIAG1     0.000000\n",
       "GLOSA_SUBCATEGORIA_DIAG1      0.000000\n",
       "DIAG2CAPITULO_DIAG2          53.211457\n",
       "GLOSA_CAPITULO_DIAG2         93.821698\n",
       "CODIGO_GRUPO_DIAG2           93.821698\n",
       "GLOSA_GRUPO_DIAG2            93.821698\n",
       "CODIGO_CATEGORIA_DIAG2       93.821698\n",
       "GLOSA_CATEGORIA_DIAG2        93.821698\n",
       "CODIGO_SUBCATEGORIA_DIAG2    93.821698\n",
       "GLOSA_SUBCATEGORIA_DIAG2     93.821698\n",
       "                             93.821698\n",
       "LUGAR_DEFUNCION               0.000000\n",
       "dtype: float64"
      ]
     },
     "execution_count": 29,
     "metadata": {},
     "output_type": "execute_result"
    }
   ],
   "source": [
    "df2.isna().sum()/len(df2.iloc[:,0])*100"
   ]
  },
  {
   "cell_type": "code",
   "execution_count": 30,
   "id": "31f2c7ed-c52c-4cfe-a23a-fdd4e9f6e56d",
   "metadata": {},
   "outputs": [],
   "source": [
    "df2 = df2.drop(columns= [\"EDAD_TIPO\",\"CODIGO_COMUNA_RESIDENCIA\",\"CAPITULO_DIAG1\",\"CODIGO_GRUPO_DIAG1\",\"CODIGO_CATEGORIA_DIAG1\",\n",
    "                         \"CODIGO_SUBCATEGORIA_DIAG1\", \"DIAG2CAPITULO_DIAG2\",'GLOSA_CAPITULO_DIAG2', 'CODIGO_GRUPO_DIAG2', 'GLOSA_GRUPO_DIAG2',\n",
    "                         'CODIGO_CATEGORIA_DIAG2', 'GLOSA_CATEGORIA_DIAG2','CODIGO_SUBCATEGORIA_DIAG2', 'GLOSA_SUBCATEGORIA_DIAG2', ' '])"
   ]
  },
  {
   "cell_type": "code",
   "execution_count": 31,
   "id": "9eadf198",
   "metadata": {},
   "outputs": [],
   "source": [
    "encabezadoColumnas = ['ANO_DEF', 'FECHA_DEF', 'GLOSA_SEXO', 'EDAD_CANT',\n",
    "       'GLOSA_COMUNA_RESIDENCIA', 'GLOSA_REG_RES', 'DIAG1',\n",
    "       'GLOSA_CAPITULO_DIAG1', 'GLOSA_GRUPO_DIAG1', 'GLOSA_CATEGORIA_DIAG1',\n",
    "       'GLOSA_SUBCATEGORIA_DIAG1', 'LUGAR_DEFUNCION']"
   ]
  },
  {
   "cell_type": "code",
   "execution_count": 32,
   "id": "a87b24dc-93ae-47b2-a950-47951a3e8dc6",
   "metadata": {},
   "outputs": [
    {
     "name": "stdout",
     "output_type": "stream",
     "text": [
      "ANO_DEF: 0 datos unknown que representan el 0.0%\n",
      "FECHA_DEF: 0 datos unknown que representan el 0.0%\n",
      "GLOSA_SEXO: 0 datos unknown que representan el 0.0%\n",
      "EDAD_CANT: 0 datos unknown que representan el 0.0%\n",
      "GLOSA_COMUNA_RESIDENCIA: 0 datos unknown que representan el 0.0%\n",
      "GLOSA_REG_RES: 0 datos unknown que representan el 0.0%\n",
      "DIAG1: 0 datos unknown que representan el 0.0%\n",
      "GLOSA_CAPITULO_DIAG1: 0 datos unknown que representan el 0.0%\n",
      "GLOSA_GRUPO_DIAG1: 0 datos unknown que representan el 0.0%\n",
      "GLOSA_CATEGORIA_DIAG1: 0 datos unknown que representan el 0.0%\n",
      "GLOSA_SUBCATEGORIA_DIAG1: 0 datos unknown que representan el 0.0%\n",
      "LUGAR_DEFUNCION: 0 datos unknown que representan el 0.0%\n"
     ]
    }
   ],
   "source": [
    "for x in encabezadoColumnas:\n",
    "    count = 0\n",
    "    for i in df2[x]:\n",
    "        if i == \"unknown\":\n",
    "            count += 1\n",
    "        else:\n",
    "            continue\n",
    "    porcentaje = (count/df2[x].count())*100\n",
    "    print(f\"{x}: {count} datos unknown que representan el {porcentaje}%\")"
   ]
  },
  {
   "cell_type": "markdown",
   "id": "0bb93637-14ad-4f71-8a76-a6f501070f69",
   "metadata": {},
   "source": [
    " "
   ]
  },
  {
   "cell_type": "markdown",
   "id": "9036e890-c3c2-4960-9d65-0e67bf6ba582",
   "metadata": {},
   "source": [
    "#### 3.3 Union de los DF"
   ]
  },
  {
   "cell_type": "markdown",
   "id": "71aa5bba",
   "metadata": {},
   "source": [
    "Lo siguiente es unificar los set, empezaremos renombrando las columnas del df 2 para homogeneizar los sets. Luego usamos el método \"concat\" de pandas para unificar los dataframe. Vemos la información del set resultante y si se duplicaron entradas, y efectivamente tenemos 136.307 datos duplicados que podrían ser entradas del año 2021 que es un año en común en ambos set, usamos el método \"drop_duplicates\" para eliminar las repeticiones y creo una copia para continuar con el proceso de codificado y normalización."
   ]
  },
  {
   "cell_type": "code",
   "execution_count": 33,
   "id": "ed1a6cfa-72e6-45ef-9f8d-1fd44242a584",
   "metadata": {},
   "outputs": [],
   "source": [
    "rename = {\"ANO_DEF\":'Año',\"FECHA_DEF\":'Fecha_def',\"GLOSA_SEXO\":'Sexo',\"EDAD_CANT\":'Edad_num',\"GLOSA_COMUNA_RESIDENCIA\":'Com_resi',\"GLOSA_REG_RES\":'Reg_resi',\"DIAG1\":\"Causa_bas_def\",\"GLOSA_CAPITULO_DIAG1\":'GLOSA_CAPITULO_DIAG1',\"GLOSA_GRUPO_DIAG1\":'GLOSA_GRUPO_DIAG1',\"GLOSA_CATEGORIA_DIAG1\":'GLOSA_CATEGORIA_DIAG1',\"GLOSA_SUBCATEGORIA_DIAG1\":'GLOSA_SUBCATEGORIA_DIAG1',\"LUGAR_DEFUNCION\":'lugar_def' }"
   ]
  },
  {
   "cell_type": "code",
   "execution_count": 34,
   "id": "b20e0fac-17bb-4a2f-a933-cbcf880ab610",
   "metadata": {},
   "outputs": [],
   "source": [
    "df2 =df2.rename(columns=rename)"
   ]
  },
  {
   "cell_type": "code",
   "execution_count": 35,
   "id": "af432b2d-f915-4c96-a47a-0f152ac0f8c9",
   "metadata": {},
   "outputs": [],
   "source": [
    "df3 = pd.concat([df, df2], axis=0)"
   ]
  },
  {
   "cell_type": "code",
   "execution_count": 36,
   "id": "2c702688-b199-477c-b20c-0feedcd715ba",
   "metadata": {},
   "outputs": [
    {
     "name": "stdout",
     "output_type": "stream",
     "text": [
      "<class 'pandas.core.frame.DataFrame'>\n",
      "Index: 1084236 entries, 0 to 395318\n",
      "Data columns (total 12 columns):\n",
      " #   Column                    Non-Null Count    Dtype \n",
      "---  ------                    --------------    ----- \n",
      " 0   Año                       1084236 non-null  int64 \n",
      " 1   Fecha_def                 1084236 non-null  object\n",
      " 2   Sexo                      1084236 non-null  object\n",
      " 3   Edad_num                  1084236 non-null  int64 \n",
      " 4   Com_resi                  1084236 non-null  object\n",
      " 5   Reg_resi                  1084236 non-null  object\n",
      " 6   Causa_bas_def             1084236 non-null  object\n",
      " 7   GLOSA_CAPITULO_DIAG1      1084236 non-null  object\n",
      " 8   GLOSA_GRUPO_DIAG1         1084236 non-null  object\n",
      " 9   GLOSA_CATEGORIA_DIAG1     1084236 non-null  object\n",
      " 10  GLOSA_SUBCATEGORIA_DIAG1  1084236 non-null  object\n",
      " 11  lugar_def                 1084236 non-null  object\n",
      "dtypes: int64(2), object(10)\n",
      "memory usage: 107.5+ MB\n"
     ]
    }
   ],
   "source": [
    "df3.info()"
   ]
  },
  {
   "cell_type": "code",
   "execution_count": 37,
   "id": "168c28d0-7945-4d44-989a-a9914a4e996e",
   "metadata": {},
   "outputs": [
    {
     "data": {
      "text/plain": [
       "136307"
      ]
     },
     "execution_count": 37,
     "metadata": {},
     "output_type": "execute_result"
    }
   ],
   "source": [
    "df3.duplicated().sum()"
   ]
  },
  {
   "cell_type": "code",
   "execution_count": 38,
   "id": "abe425c7-0c19-4117-9d46-22ae9e1eae2d",
   "metadata": {},
   "outputs": [],
   "source": [
    "df3 = df3.drop_duplicates()"
   ]
  },
  {
   "cell_type": "code",
   "execution_count": 39,
   "id": "b0a8c3b3-6797-4204-acbb-c8fe2b6a98c9",
   "metadata": {},
   "outputs": [],
   "source": [
    "dfcopy = df3.copy()"
   ]
  },
  {
   "cell_type": "markdown",
   "id": "93011220",
   "metadata": {},
   "source": [
    "### 4. Visualización de datos y busqueda de posibles etiquetas"
   ]
  },
  {
   "cell_type": "markdown",
   "id": "6b12874a",
   "metadata": {},
   "source": [
    "Observe la descripción de mi dataframe para buscar de forma rápida posibles candidatos a etiquetas. Lo mas cercano podria ser el sexo o el lugar de fallecimiento que tienen 3 categorias."
   ]
  },
  {
   "cell_type": "code",
   "execution_count": 40,
   "id": "0524dac0-3db9-45b8-aace-ce68fa220873",
   "metadata": {},
   "outputs": [
    {
     "data": {
      "text/html": [
       "<div>\n",
       "<style scoped>\n",
       "    .dataframe tbody tr th:only-of-type {\n",
       "        vertical-align: middle;\n",
       "    }\n",
       "\n",
       "    .dataframe tbody tr th {\n",
       "        vertical-align: top;\n",
       "    }\n",
       "\n",
       "    .dataframe thead th {\n",
       "        text-align: right;\n",
       "    }\n",
       "</style>\n",
       "<table border=\"1\" class=\"dataframe\">\n",
       "  <thead>\n",
       "    <tr style=\"text-align: right;\">\n",
       "      <th></th>\n",
       "      <th>Año</th>\n",
       "      <th>Fecha_def</th>\n",
       "      <th>Sexo</th>\n",
       "      <th>Edad_num</th>\n",
       "      <th>Com_resi</th>\n",
       "      <th>Reg_resi</th>\n",
       "      <th>Causa_bas_def</th>\n",
       "      <th>GLOSA_CAPITULO_DIAG1</th>\n",
       "      <th>GLOSA_GRUPO_DIAG1</th>\n",
       "      <th>GLOSA_CATEGORIA_DIAG1</th>\n",
       "      <th>GLOSA_SUBCATEGORIA_DIAG1</th>\n",
       "      <th>lugar_def</th>\n",
       "    </tr>\n",
       "  </thead>\n",
       "  <tbody>\n",
       "    <tr>\n",
       "      <th>count</th>\n",
       "      <td>947929.000000</td>\n",
       "      <td>947929</td>\n",
       "      <td>947929</td>\n",
       "      <td>947929.000000</td>\n",
       "      <td>947929</td>\n",
       "      <td>947929</td>\n",
       "      <td>947929</td>\n",
       "      <td>947929</td>\n",
       "      <td>947929</td>\n",
       "      <td>947929</td>\n",
       "      <td>947929</td>\n",
       "      <td>947929</td>\n",
       "    </tr>\n",
       "    <tr>\n",
       "      <th>unique</th>\n",
       "      <td>NaN</td>\n",
       "      <td>2920</td>\n",
       "      <td>3</td>\n",
       "      <td>NaN</td>\n",
       "      <td>345</td>\n",
       "      <td>17</td>\n",
       "      <td>3261</td>\n",
       "      <td>20</td>\n",
       "      <td>202</td>\n",
       "      <td>1020</td>\n",
       "      <td>3259</td>\n",
       "      <td>3</td>\n",
       "    </tr>\n",
       "    <tr>\n",
       "      <th>top</th>\n",
       "      <td>NaN</td>\n",
       "      <td>2020-06-09</td>\n",
       "      <td>Hombre</td>\n",
       "      <td>NaN</td>\n",
       "      <td>Puente Alto</td>\n",
       "      <td>Metropolitana de Santiago</td>\n",
       "      <td>U071</td>\n",
       "      <td>Enfermedades del sistema circulatorio</td>\n",
       "      <td>Tumores malignos de los órganos digestivos</td>\n",
       "      <td>Uso emergente de U07</td>\n",
       "      <td>COVID-19 virus identificado</td>\n",
       "      <td>Casa habitación</td>\n",
       "    </tr>\n",
       "    <tr>\n",
       "      <th>freq</th>\n",
       "      <td>NaN</td>\n",
       "      <td>584</td>\n",
       "      <td>499577</td>\n",
       "      <td>NaN</td>\n",
       "      <td>23324</td>\n",
       "      <td>358585</td>\n",
       "      <td>53768</td>\n",
       "      <td>231331</td>\n",
       "      <td>89473</td>\n",
       "      <td>65573</td>\n",
       "      <td>53768</td>\n",
       "      <td>455933</td>\n",
       "    </tr>\n",
       "    <tr>\n",
       "      <th>mean</th>\n",
       "      <td>2019.700571</td>\n",
       "      <td>NaN</td>\n",
       "      <td>NaN</td>\n",
       "      <td>72.387932</td>\n",
       "      <td>NaN</td>\n",
       "      <td>NaN</td>\n",
       "      <td>NaN</td>\n",
       "      <td>NaN</td>\n",
       "      <td>NaN</td>\n",
       "      <td>NaN</td>\n",
       "      <td>NaN</td>\n",
       "      <td>NaN</td>\n",
       "    </tr>\n",
       "    <tr>\n",
       "      <th>std</th>\n",
       "      <td>2.261124</td>\n",
       "      <td>NaN</td>\n",
       "      <td>NaN</td>\n",
       "      <td>18.507176</td>\n",
       "      <td>NaN</td>\n",
       "      <td>NaN</td>\n",
       "      <td>NaN</td>\n",
       "      <td>NaN</td>\n",
       "      <td>NaN</td>\n",
       "      <td>NaN</td>\n",
       "      <td>NaN</td>\n",
       "      <td>NaN</td>\n",
       "    </tr>\n",
       "    <tr>\n",
       "      <th>min</th>\n",
       "      <td>2016.000000</td>\n",
       "      <td>NaN</td>\n",
       "      <td>NaN</td>\n",
       "      <td>0.000000</td>\n",
       "      <td>NaN</td>\n",
       "      <td>NaN</td>\n",
       "      <td>NaN</td>\n",
       "      <td>NaN</td>\n",
       "      <td>NaN</td>\n",
       "      <td>NaN</td>\n",
       "      <td>NaN</td>\n",
       "      <td>NaN</td>\n",
       "    </tr>\n",
       "    <tr>\n",
       "      <th>25%</th>\n",
       "      <td>2018.000000</td>\n",
       "      <td>NaN</td>\n",
       "      <td>NaN</td>\n",
       "      <td>63.000000</td>\n",
       "      <td>NaN</td>\n",
       "      <td>NaN</td>\n",
       "      <td>NaN</td>\n",
       "      <td>NaN</td>\n",
       "      <td>NaN</td>\n",
       "      <td>NaN</td>\n",
       "      <td>NaN</td>\n",
       "      <td>NaN</td>\n",
       "    </tr>\n",
       "    <tr>\n",
       "      <th>50%</th>\n",
       "      <td>2020.000000</td>\n",
       "      <td>NaN</td>\n",
       "      <td>NaN</td>\n",
       "      <td>76.000000</td>\n",
       "      <td>NaN</td>\n",
       "      <td>NaN</td>\n",
       "      <td>NaN</td>\n",
       "      <td>NaN</td>\n",
       "      <td>NaN</td>\n",
       "      <td>NaN</td>\n",
       "      <td>NaN</td>\n",
       "      <td>NaN</td>\n",
       "    </tr>\n",
       "    <tr>\n",
       "      <th>75%</th>\n",
       "      <td>2022.000000</td>\n",
       "      <td>NaN</td>\n",
       "      <td>NaN</td>\n",
       "      <td>86.000000</td>\n",
       "      <td>NaN</td>\n",
       "      <td>NaN</td>\n",
       "      <td>NaN</td>\n",
       "      <td>NaN</td>\n",
       "      <td>NaN</td>\n",
       "      <td>NaN</td>\n",
       "      <td>NaN</td>\n",
       "      <td>NaN</td>\n",
       "    </tr>\n",
       "    <tr>\n",
       "      <th>max</th>\n",
       "      <td>2023.000000</td>\n",
       "      <td>NaN</td>\n",
       "      <td>NaN</td>\n",
       "      <td>999.000000</td>\n",
       "      <td>NaN</td>\n",
       "      <td>NaN</td>\n",
       "      <td>NaN</td>\n",
       "      <td>NaN</td>\n",
       "      <td>NaN</td>\n",
       "      <td>NaN</td>\n",
       "      <td>NaN</td>\n",
       "      <td>NaN</td>\n",
       "    </tr>\n",
       "  </tbody>\n",
       "</table>\n",
       "</div>"
      ],
      "text/plain": [
       "                  Año   Fecha_def    Sexo       Edad_num     Com_resi  \\\n",
       "count   947929.000000      947929  947929  947929.000000       947929   \n",
       "unique            NaN        2920       3            NaN          345   \n",
       "top               NaN  2020-06-09  Hombre            NaN  Puente Alto   \n",
       "freq              NaN         584  499577            NaN        23324   \n",
       "mean      2019.700571         NaN     NaN      72.387932          NaN   \n",
       "std          2.261124         NaN     NaN      18.507176          NaN   \n",
       "min       2016.000000         NaN     NaN       0.000000          NaN   \n",
       "25%       2018.000000         NaN     NaN      63.000000          NaN   \n",
       "50%       2020.000000         NaN     NaN      76.000000          NaN   \n",
       "75%       2022.000000         NaN     NaN      86.000000          NaN   \n",
       "max       2023.000000         NaN     NaN     999.000000          NaN   \n",
       "\n",
       "                         Reg_resi Causa_bas_def  \\\n",
       "count                      947929        947929   \n",
       "unique                         17          3261   \n",
       "top     Metropolitana de Santiago          U071   \n",
       "freq                       358585         53768   \n",
       "mean                          NaN           NaN   \n",
       "std                           NaN           NaN   \n",
       "min                           NaN           NaN   \n",
       "25%                           NaN           NaN   \n",
       "50%                           NaN           NaN   \n",
       "75%                           NaN           NaN   \n",
       "max                           NaN           NaN   \n",
       "\n",
       "                          GLOSA_CAPITULO_DIAG1  \\\n",
       "count                                   947929   \n",
       "unique                                      20   \n",
       "top     Enfermedades del sistema circulatorio    \n",
       "freq                                    231331   \n",
       "mean                                       NaN   \n",
       "std                                        NaN   \n",
       "min                                        NaN   \n",
       "25%                                        NaN   \n",
       "50%                                        NaN   \n",
       "75%                                        NaN   \n",
       "max                                        NaN   \n",
       "\n",
       "                                 GLOSA_GRUPO_DIAG1 GLOSA_CATEGORIA_DIAG1  \\\n",
       "count                                       947929                947929   \n",
       "unique                                         202                  1020   \n",
       "top     Tumores malignos de los órganos digestivos  Uso emergente de U07   \n",
       "freq                                         89473                 65573   \n",
       "mean                                           NaN                   NaN   \n",
       "std                                            NaN                   NaN   \n",
       "min                                            NaN                   NaN   \n",
       "25%                                            NaN                   NaN   \n",
       "50%                                            NaN                   NaN   \n",
       "75%                                            NaN                   NaN   \n",
       "max                                            NaN                   NaN   \n",
       "\n",
       "           GLOSA_SUBCATEGORIA_DIAG1        lugar_def  \n",
       "count                        947929           947929  \n",
       "unique                         3259                3  \n",
       "top     COVID-19 virus identificado  Casa habitación  \n",
       "freq                          53768           455933  \n",
       "mean                            NaN              NaN  \n",
       "std                             NaN              NaN  \n",
       "min                             NaN              NaN  \n",
       "25%                             NaN              NaN  \n",
       "50%                             NaN              NaN  \n",
       "75%                             NaN              NaN  \n",
       "max                             NaN              NaN  "
      ]
     },
     "execution_count": 40,
     "metadata": {},
     "output_type": "execute_result"
    }
   ],
   "source": [
    "dfcopy.describe(include=\"all\")"
   ]
  },
  {
   "cell_type": "markdown",
   "id": "7fa4a7f4",
   "metadata": {},
   "source": [
    " "
   ]
  },
  {
   "cell_type": "markdown",
   "id": "7f006193",
   "metadata": {},
   "source": [
    "#### 4.1 Sexo como posible candidato"
   ]
  },
  {
   "cell_type": "markdown",
   "id": "90a2f9a5",
   "metadata": {},
   "source": [
    "Usando la libreria seaborn se grafico la cantidad de defunciones anuales separadas por el sexo. Confirmamos que los hombres mueren más que las mujeres, además con tendencia en alza, lo cual podría ser normal en un país con población en crecimiento, y que tiene su pic en el año 2021, el año de la pandemia. tambien notamos que existe una pequeña categoria en el sexo que no es capaz de verse en el grafico y se refiere a sexo indeterminado, que representa al 0.01% de las entradas del atributo y que al revisar el diagnostico y la edad de los individuos podemos entender que representa a defunciones por abortos y de bebes hasta los 2 años de vida que presentaros problemas en sus primeras etapas de vida y mayoritariamente deformidades que impidieron su reconocimiento. por motivos practicos decidi eliminar esta categoria del atributo sexo y se reorganizo el dataframe para que el atributo sexo quedara como el último atributo."
   ]
  },
  {
   "cell_type": "code",
   "execution_count": 41,
   "id": "e74ed0ce",
   "metadata": {},
   "outputs": [
    {
     "data": {
      "text/plain": [
       "<Axes: xlabel='Año', ylabel='count'>"
      ]
     },
     "execution_count": 41,
     "metadata": {},
     "output_type": "execute_result"
    },
    {
     "data": {
      "image/png": "[encoded data removed]",
      "text/plain": [
       "<Figure size 640x480 with 1 Axes>"
      ]
     },
     "metadata": {},
     "output_type": "display_data"
    }
   ],
   "source": [
    "sns.countplot(data=df3, x=\"Año\",hue=\"Sexo\")"
   ]
  },
  {
   "cell_type": "code",
   "execution_count": 42,
   "id": "b2801c17",
   "metadata": {},
   "outputs": [
    {
     "data": {
      "text/plain": [
       "Sexo\n",
       "Hombre           52.701943\n",
       "Mujer            47.284765\n",
       "Indeterminado     0.013292\n",
       "Name: count, dtype: float64"
      ]
     },
     "execution_count": 42,
     "metadata": {},
     "output_type": "execute_result"
    }
   ],
   "source": [
    "dfcopy[\"Sexo\"].value_counts()/len(dfcopy[\"Sexo\"])*100"
   ]
  },
  {
   "cell_type": "code",
   "execution_count": 43,
   "id": "53d813e3",
   "metadata": {},
   "outputs": [],
   "source": [
    "indeterminados = dfcopy.loc[dfcopy[\"Sexo\"] == \"Indeterminado\"]"
   ]
  },
  {
   "cell_type": "code",
   "execution_count": 44,
   "id": "694197f0",
   "metadata": {},
   "outputs": [
    {
     "data": {
      "text/plain": [
       "GLOSA_CAPITULO_DIAG1\n",
       "Malformaciones congénitas, deformidades y anomalías cromosómicas                                   96\n",
       "Ciertas afecciones originadas en el período perinatal                                              26\n",
       "Síntomas, signos y hallazgos anormales clínicos y de laboratorio, no clasificados en otra parte     2\n",
       "Traumatismos, envenenamientos y algunas otras consecuencias de causas externas                      1\n",
       "Enfermedades del sistema circulatorio                                                               1\n",
       "Name: count, dtype: int64"
      ]
     },
     "execution_count": 44,
     "metadata": {},
     "output_type": "execute_result"
    }
   ],
   "source": [
    "indeterminados[\"GLOSA_CAPITULO_DIAG1\"].value_counts()"
   ]
  },
  {
   "cell_type": "code",
   "execution_count": 45,
   "id": "09589300",
   "metadata": {},
   "outputs": [
    {
     "data": {
      "text/plain": [
       "Edad_num\n",
       "1     82\n",
       "2     18\n",
       "6      6\n",
       "12     3\n",
       "3      3\n",
       "9      2\n",
       "5      2\n",
       "18     2\n",
       "17     1\n",
       "10     1\n",
       "7      1\n",
       "22     1\n",
       "99     1\n",
       "4      1\n",
       "21     1\n",
       "15     1\n",
       "Name: count, dtype: int64"
      ]
     },
     "execution_count": 45,
     "metadata": {},
     "output_type": "execute_result"
    }
   ],
   "source": [
    "indeterminados[\"Edad_num\"].value_counts()"
   ]
  },
  {
   "cell_type": "code",
   "execution_count": 46,
   "id": "3b55cede",
   "metadata": {},
   "outputs": [],
   "source": [
    "dfcopy = dfcopy.loc[dfcopy[\"Sexo\"] != \"Indeterminado\"]"
   ]
  },
  {
   "cell_type": "code",
   "execution_count": 47,
   "id": "496662be",
   "metadata": {},
   "outputs": [],
   "source": [
    "x = ['Año', 'Fecha_def', 'Edad_num', 'Com_resi', 'Reg_resi',\n",
    "     'Causa_bas_def', 'GLOSA_CAPITULO_DIAG1', 'GLOSA_GRUPO_DIAG1',\n",
    "     'GLOSA_CATEGORIA_DIAG1', 'GLOSA_SUBCATEGORIA_DIAG1', 'lugar_def','Sexo']"
   ]
  },
  {
   "cell_type": "code",
   "execution_count": 48,
   "id": "291c4fbf",
   "metadata": {},
   "outputs": [],
   "source": [
    "dfcopy = dfcopy[x]"
   ]
  },
  {
   "cell_type": "markdown",
   "id": "7c9a6d22",
   "metadata": {},
   "source": [
    " "
   ]
  },
  {
   "cell_type": "markdown",
   "id": "9df61d27",
   "metadata": {},
   "source": [
    "#### 4.2 Lugar de defunción como posible candidato"
   ]
  },
  {
   "cell_type": "markdown",
   "id": "05e6fd12",
   "metadata": {},
   "source": [
    "Revisamos rápidamente que el lugar de defunción tiene tres categorías, que pueden ser \"hogar habitacion\", \"hospital o clínica\" y \"otro\", este último es aproximadamente el 9% de las entradas y representa una población que murió en lugares que no son parte de las otras dos categorías, digamos que, por accidentes que generaron algún tipo de traumatismo, muertes súbitas o por enfermedades que se identificaron posterior a la defunción del individuo. Por temas prácticos decidí eliminar esta categoría del atributo, nuestro set de datos disminuyo de 947.929 a 866.756 entradas."
   ]
  },
  {
   "cell_type": "code",
   "execution_count": 49,
   "id": "d1179337",
   "metadata": {},
   "outputs": [
    {
     "data": {
      "text/plain": [
       "lugar_def\n",
       "Casa habitación       48.104089\n",
       "Hospital o Clínica    43.344872\n",
       "Otro                   8.551039\n",
       "Name: count, dtype: float64"
      ]
     },
     "execution_count": 49,
     "metadata": {},
     "output_type": "execute_result"
    }
   ],
   "source": [
    "dfcopy[\"lugar_def\"].value_counts()/len(dfcopy[\"lugar_def\"])*100"
   ]
  },
  {
   "cell_type": "code",
   "execution_count": 50,
   "id": "8ff06863",
   "metadata": {},
   "outputs": [],
   "source": [
    "otro = dfcopy.loc[dfcopy[\"lugar_def\"] == \"Otro\"]"
   ]
  },
  {
   "cell_type": "code",
   "execution_count": 51,
   "id": "37f8d224",
   "metadata": {},
   "outputs": [
    {
     "data": {
      "text/plain": [
       "GLOSA_GRUPO_DIAG1\n",
       " Otros efectos y los no especificados de causas externas                                     11458\n",
       "Enfermedades isquémicas del corazón                                                          10223\n",
       "Traumatismos que afectan múltiples regiones del cuerpo                                        9879\n",
       "Traumatismos de la cabeza                                                                     6795\n",
       "Causas de mortalidad mal definidas y desconocidas                                             4542\n",
       "                                                                                             ...  \n",
       "Espondilopatías                                                                                  1\n",
       "Otros trastornos originados en el período perinatal                                              1\n",
       "Trastornos endocrinos y metabólicos transitorios específicos del feto y del recién nacido        1\n",
       "Trastornos flictenulares                                                                         1\n",
       "Tumores [neoplasias] in situ                                                                     1\n",
       "Name: count, Length: 168, dtype: int64"
      ]
     },
     "execution_count": 51,
     "metadata": {},
     "output_type": "execute_result"
    }
   ],
   "source": [
    "otro[\"GLOSA_GRUPO_DIAG1\"].value_counts()"
   ]
  },
  {
   "cell_type": "code",
   "execution_count": 52,
   "id": "ea37b402",
   "metadata": {},
   "outputs": [],
   "source": [
    "dfcopy = dfcopy.loc[dfcopy[\"lugar_def\"] != \"Otro\"]"
   ]
  },
  {
   "cell_type": "code",
   "execution_count": 53,
   "id": "b07eaf75",
   "metadata": {},
   "outputs": [
    {
     "name": "stdout",
     "output_type": "stream",
     "text": [
      "<class 'pandas.core.frame.DataFrame'>\n",
      "Index: 866756 entries, 0 to 395303\n",
      "Data columns (total 12 columns):\n",
      " #   Column                    Non-Null Count   Dtype \n",
      "---  ------                    --------------   ----- \n",
      " 0   Año                       866756 non-null  int64 \n",
      " 1   Fecha_def                 866756 non-null  object\n",
      " 2   Edad_num                  866756 non-null  int64 \n",
      " 3   Com_resi                  866756 non-null  object\n",
      " 4   Reg_resi                  866756 non-null  object\n",
      " 5   Causa_bas_def             866756 non-null  object\n",
      " 6   GLOSA_CAPITULO_DIAG1      866756 non-null  object\n",
      " 7   GLOSA_GRUPO_DIAG1         866756 non-null  object\n",
      " 8   GLOSA_CATEGORIA_DIAG1     866756 non-null  object\n",
      " 9   GLOSA_SUBCATEGORIA_DIAG1  866756 non-null  object\n",
      " 10  lugar_def                 866756 non-null  object\n",
      " 11  Sexo                      866756 non-null  object\n",
      "dtypes: int64(2), object(10)\n",
      "memory usage: 86.0+ MB\n"
     ]
    }
   ],
   "source": [
    "dfcopy.info()"
   ]
  },
  {
   "cell_type": "markdown",
   "id": "eb2895a8-cef2-487c-85e0-dd611e481e6f",
   "metadata": {},
   "source": [
    " "
   ]
  },
  {
   "cell_type": "markdown",
   "id": "1343c231-846d-4c82-b038-4fade0910252",
   "metadata": {},
   "source": [
    "### 4. Codificación y Normalización de los datos."
   ]
  },
  {
   "cell_type": "markdown",
   "id": "8c0209e2",
   "metadata": {},
   "source": [
    "Se utilizó la librería de sklearn para transformar el dataframe por niveles codificados, se excluyeron los atributos de año y edad por que quise mantener la distancia de estos valores. Luego utilizando la misma librería normalizamos todo el set por la escala de minimo y maximo, en este punto aprovechamos de ver correlacion entre nuestros datos y vemos que existen algunas correlaciones como el año con la fecha o los diagnósticos con subdiagnosticos, pero todo bastante obvio. Por ultimo, realice una disminucion de dimencionalidad utilizando analisis de componenetes principales, se excluyo el atributo de sexo para utilizarlo como etiqueta, se escogieron 11 componentes para analizar la varianza acumulada, y nos muestra que con la mitad de los componente logramos una varianza acumulada aprox de 96% asi que decidi seguir trabajando con solo 6 componenetes."
   ]
  },
  {
   "cell_type": "code",
   "execution_count": 54,
   "id": "373058a5-d7b2-4b9e-a8f4-4d3364d1c6c3",
   "metadata": {},
   "outputs": [],
   "source": [
    "lE = sk.LabelEncoder() "
   ]
  },
  {
   "cell_type": "code",
   "execution_count": 55,
   "id": "f1c287dd-3b0d-4cae-b819-d7b6f2504bc0",
   "metadata": {},
   "outputs": [],
   "source": [
    "for i in dfcopy.columns:\n",
    "    if i in [\"Año\",\"Edad_num\"]:\n",
    "        continue\n",
    "    else:\n",
    "        dfcopy[i] = lE.fit_transform(dfcopy[i])"
   ]
  },
  {
   "cell_type": "code",
   "execution_count": 56,
   "id": "aa74d910",
   "metadata": {},
   "outputs": [
    {
     "data": {
      "text/html": [
       "<div>\n",
       "<style scoped>\n",
       "    .dataframe tbody tr th:only-of-type {\n",
       "        vertical-align: middle;\n",
       "    }\n",
       "\n",
       "    .dataframe tbody tr th {\n",
       "        vertical-align: top;\n",
       "    }\n",
       "\n",
       "    .dataframe thead th {\n",
       "        text-align: right;\n",
       "    }\n",
       "</style>\n",
       "<table border=\"1\" class=\"dataframe\">\n",
       "  <thead>\n",
       "    <tr style=\"text-align: right;\">\n",
       "      <th></th>\n",
       "      <th>Año</th>\n",
       "      <th>Fecha_def</th>\n",
       "      <th>Edad_num</th>\n",
       "      <th>Com_resi</th>\n",
       "      <th>Reg_resi</th>\n",
       "      <th>Causa_bas_def</th>\n",
       "      <th>GLOSA_CAPITULO_DIAG1</th>\n",
       "      <th>GLOSA_GRUPO_DIAG1</th>\n",
       "      <th>GLOSA_CATEGORIA_DIAG1</th>\n",
       "      <th>GLOSA_SUBCATEGORIA_DIAG1</th>\n",
       "      <th>lugar_def</th>\n",
       "      <th>Sexo</th>\n",
       "    </tr>\n",
       "  </thead>\n",
       "  <tbody>\n",
       "    <tr>\n",
       "      <th>0</th>\n",
       "      <td>2021</td>\n",
       "      <td>1978</td>\n",
       "      <td>50</td>\n",
       "      <td>121</td>\n",
       "      <td>16</td>\n",
       "      <td>1234</td>\n",
       "      <td>8</td>\n",
       "      <td>54</td>\n",
       "      <td>366</td>\n",
       "      <td>1319</td>\n",
       "      <td>1</td>\n",
       "      <td>0</td>\n",
       "    </tr>\n",
       "    <tr>\n",
       "      <th>1</th>\n",
       "      <td>2021</td>\n",
       "      <td>1975</td>\n",
       "      <td>31</td>\n",
       "      <td>59</td>\n",
       "      <td>16</td>\n",
       "      <td>125</td>\n",
       "      <td>1</td>\n",
       "      <td>32</td>\n",
       "      <td>205</td>\n",
       "      <td>725</td>\n",
       "      <td>1</td>\n",
       "      <td>0</td>\n",
       "    </tr>\n",
       "    <tr>\n",
       "      <th>3</th>\n",
       "      <td>2021</td>\n",
       "      <td>1978</td>\n",
       "      <td>58</td>\n",
       "      <td>289</td>\n",
       "      <td>16</td>\n",
       "      <td>415</td>\n",
       "      <td>19</td>\n",
       "      <td>195</td>\n",
       "      <td>964</td>\n",
       "      <td>2972</td>\n",
       "      <td>0</td>\n",
       "      <td>1</td>\n",
       "    </tr>\n",
       "    <tr>\n",
       "      <th>4</th>\n",
       "      <td>2021</td>\n",
       "      <td>1973</td>\n",
       "      <td>46</td>\n",
       "      <td>13</td>\n",
       "      <td>2</td>\n",
       "      <td>1234</td>\n",
       "      <td>8</td>\n",
       "      <td>54</td>\n",
       "      <td>366</td>\n",
       "      <td>1319</td>\n",
       "      <td>0</td>\n",
       "      <td>0</td>\n",
       "    </tr>\n",
       "    <tr>\n",
       "      <th>5</th>\n",
       "      <td>2021</td>\n",
       "      <td>1976</td>\n",
       "      <td>36</td>\n",
       "      <td>19</td>\n",
       "      <td>1</td>\n",
       "      <td>1810</td>\n",
       "      <td>9</td>\n",
       "      <td>144</td>\n",
       "      <td>526</td>\n",
       "      <td>1741</td>\n",
       "      <td>1</td>\n",
       "      <td>0</td>\n",
       "    </tr>\n",
       "  </tbody>\n",
       "</table>\n",
       "</div>"
      ],
      "text/plain": [
       "    Año  Fecha_def  Edad_num  Com_resi  Reg_resi  Causa_bas_def  \\\n",
       "0  2021       1978        50       121        16           1234   \n",
       "1  2021       1975        31        59        16            125   \n",
       "3  2021       1978        58       289        16            415   \n",
       "4  2021       1973        46        13         2           1234   \n",
       "5  2021       1976        36        19         1           1810   \n",
       "\n",
       "   GLOSA_CAPITULO_DIAG1  GLOSA_GRUPO_DIAG1  GLOSA_CATEGORIA_DIAG1  \\\n",
       "0                     8                 54                    366   \n",
       "1                     1                 32                    205   \n",
       "3                    19                195                    964   \n",
       "4                     8                 54                    366   \n",
       "5                     9                144                    526   \n",
       "\n",
       "   GLOSA_SUBCATEGORIA_DIAG1  lugar_def  Sexo  \n",
       "0                      1319          1     0  \n",
       "1                       725          1     0  \n",
       "3                      2972          0     1  \n",
       "4                      1319          0     0  \n",
       "5                      1741          1     0  "
      ]
     },
     "execution_count": 56,
     "metadata": {},
     "output_type": "execute_result"
    }
   ],
   "source": [
    "dfcopy.head()"
   ]
  },
  {
   "cell_type": "code",
   "execution_count": 57,
   "id": "2e8968ab",
   "metadata": {},
   "outputs": [],
   "source": [
    "mM_Norm = sk.MinMaxScaler()"
   ]
  },
  {
   "cell_type": "code",
   "execution_count": 58,
   "id": "89c45885",
   "metadata": {},
   "outputs": [],
   "source": [
    "dfNorm = mM_Norm.fit_transform(dfcopy)"
   ]
  },
  {
   "cell_type": "code",
   "execution_count": 59,
   "id": "660c307e",
   "metadata": {},
   "outputs": [],
   "source": [
    "dfNorm = pd.DataFrame(dfNorm, columns=['año','fechaDef','edad','comuna','regio','causaBasDef','capituloDIAG1','grpoDIAG1','categoriaDIAG1','subcategoriaDIAG1','lugarDef','sexo'])"
   ]
  },
  {
   "cell_type": "code",
   "execution_count": 60,
   "id": "f1fadf96",
   "metadata": {},
   "outputs": [
    {
     "data": {
      "text/html": [
       "<div>\n",
       "<style scoped>\n",
       "    .dataframe tbody tr th:only-of-type {\n",
       "        vertical-align: middle;\n",
       "    }\n",
       "\n",
       "    .dataframe tbody tr th {\n",
       "        vertical-align: top;\n",
       "    }\n",
       "\n",
       "    .dataframe thead th {\n",
       "        text-align: right;\n",
       "    }\n",
       "</style>\n",
       "<table border=\"1\" class=\"dataframe\">\n",
       "  <thead>\n",
       "    <tr style=\"text-align: right;\">\n",
       "      <th></th>\n",
       "      <th>año</th>\n",
       "      <th>fechaDef</th>\n",
       "      <th>edad</th>\n",
       "      <th>comuna</th>\n",
       "      <th>regio</th>\n",
       "      <th>causaBasDef</th>\n",
       "      <th>capituloDIAG1</th>\n",
       "      <th>grpoDIAG1</th>\n",
       "      <th>categoriaDIAG1</th>\n",
       "      <th>subcategoriaDIAG1</th>\n",
       "      <th>lugarDef</th>\n",
       "      <th>sexo</th>\n",
       "    </tr>\n",
       "  </thead>\n",
       "  <tbody>\n",
       "    <tr>\n",
       "      <th>año</th>\n",
       "      <td>1.000000</td>\n",
       "      <td>0.992396</td>\n",
       "      <td>0.028444</td>\n",
       "      <td>-0.001954</td>\n",
       "      <td>-0.002257</td>\n",
       "      <td>0.116565</td>\n",
       "      <td>-0.080364</td>\n",
       "      <td>-0.057077</td>\n",
       "      <td>0.059983</td>\n",
       "      <td>-0.045669</td>\n",
       "      <td>-0.012209</td>\n",
       "      <td>-0.002230</td>\n",
       "    </tr>\n",
       "    <tr>\n",
       "      <th>fechaDef</th>\n",
       "      <td>0.992396</td>\n",
       "      <td>1.000000</td>\n",
       "      <td>0.029645</td>\n",
       "      <td>-0.001805</td>\n",
       "      <td>-0.002332</td>\n",
       "      <td>0.112142</td>\n",
       "      <td>-0.077048</td>\n",
       "      <td>-0.055051</td>\n",
       "      <td>0.056549</td>\n",
       "      <td>-0.044004</td>\n",
       "      <td>-0.013154</td>\n",
       "      <td>-0.001689</td>\n",
       "    </tr>\n",
       "    <tr>\n",
       "      <th>edad</th>\n",
       "      <td>0.028444</td>\n",
       "      <td>0.029645</td>\n",
       "      <td>1.000000</td>\n",
       "      <td>0.037768</td>\n",
       "      <td>0.046297</td>\n",
       "      <td>-0.031750</td>\n",
       "      <td>-0.038609</td>\n",
       "      <td>-0.085523</td>\n",
       "      <td>-0.092970</td>\n",
       "      <td>-0.087941</td>\n",
       "      <td>-0.216136</td>\n",
       "      <td>0.153499</td>\n",
       "    </tr>\n",
       "    <tr>\n",
       "      <th>comuna</th>\n",
       "      <td>-0.001954</td>\n",
       "      <td>-0.001805</td>\n",
       "      <td>0.037768</td>\n",
       "      <td>1.000000</td>\n",
       "      <td>0.170667</td>\n",
       "      <td>-0.010719</td>\n",
       "      <td>-0.001894</td>\n",
       "      <td>0.004159</td>\n",
       "      <td>-0.004890</td>\n",
       "      <td>-0.001763</td>\n",
       "      <td>-0.010537</td>\n",
       "      <td>0.016547</td>\n",
       "    </tr>\n",
       "    <tr>\n",
       "      <th>regio</th>\n",
       "      <td>-0.002257</td>\n",
       "      <td>-0.002332</td>\n",
       "      <td>0.046297</td>\n",
       "      <td>0.170667</td>\n",
       "      <td>1.000000</td>\n",
       "      <td>0.009074</td>\n",
       "      <td>-0.036602</td>\n",
       "      <td>-0.018072</td>\n",
       "      <td>0.017444</td>\n",
       "      <td>-0.014623</td>\n",
       "      <td>0.009868</td>\n",
       "      <td>0.029394</td>\n",
       "    </tr>\n",
       "    <tr>\n",
       "      <th>causaBasDef</th>\n",
       "      <td>0.116565</td>\n",
       "      <td>0.112142</td>\n",
       "      <td>-0.031750</td>\n",
       "      <td>-0.010719</td>\n",
       "      <td>0.009074</td>\n",
       "      <td>1.000000</td>\n",
       "      <td>-0.538790</td>\n",
       "      <td>-0.621417</td>\n",
       "      <td>-0.091133</td>\n",
       "      <td>-0.521292</td>\n",
       "      <td>0.225570</td>\n",
       "      <td>-0.020709</td>\n",
       "    </tr>\n",
       "    <tr>\n",
       "      <th>capituloDIAG1</th>\n",
       "      <td>-0.080364</td>\n",
       "      <td>-0.077048</td>\n",
       "      <td>-0.038609</td>\n",
       "      <td>-0.001894</td>\n",
       "      <td>-0.036602</td>\n",
       "      <td>-0.538790</td>\n",
       "      <td>1.000000</td>\n",
       "      <td>0.745799</td>\n",
       "      <td>0.265960</td>\n",
       "      <td>0.606805</td>\n",
       "      <td>-0.251542</td>\n",
       "      <td>0.001549</td>\n",
       "    </tr>\n",
       "    <tr>\n",
       "      <th>grpoDIAG1</th>\n",
       "      <td>-0.057077</td>\n",
       "      <td>-0.055051</td>\n",
       "      <td>-0.085523</td>\n",
       "      <td>0.004159</td>\n",
       "      <td>-0.018072</td>\n",
       "      <td>-0.621417</td>\n",
       "      <td>0.745799</td>\n",
       "      <td>1.000000</td>\n",
       "      <td>0.468314</td>\n",
       "      <td>0.703456</td>\n",
       "      <td>-0.170476</td>\n",
       "      <td>0.009994</td>\n",
       "    </tr>\n",
       "    <tr>\n",
       "      <th>categoriaDIAG1</th>\n",
       "      <td>0.059983</td>\n",
       "      <td>0.056549</td>\n",
       "      <td>-0.092970</td>\n",
       "      <td>-0.004890</td>\n",
       "      <td>0.017444</td>\n",
       "      <td>-0.091133</td>\n",
       "      <td>0.265960</td>\n",
       "      <td>0.468314</td>\n",
       "      <td>1.000000</td>\n",
       "      <td>0.635514</td>\n",
       "      <td>-0.003260</td>\n",
       "      <td>-0.026780</td>\n",
       "    </tr>\n",
       "    <tr>\n",
       "      <th>subcategoriaDIAG1</th>\n",
       "      <td>-0.045669</td>\n",
       "      <td>-0.044004</td>\n",
       "      <td>-0.087941</td>\n",
       "      <td>-0.001763</td>\n",
       "      <td>-0.014623</td>\n",
       "      <td>-0.521292</td>\n",
       "      <td>0.606805</td>\n",
       "      <td>0.703456</td>\n",
       "      <td>0.635514</td>\n",
       "      <td>1.000000</td>\n",
       "      <td>-0.139023</td>\n",
       "      <td>-0.012461</td>\n",
       "    </tr>\n",
       "    <tr>\n",
       "      <th>lugarDef</th>\n",
       "      <td>-0.012209</td>\n",
       "      <td>-0.013154</td>\n",
       "      <td>-0.216136</td>\n",
       "      <td>-0.010537</td>\n",
       "      <td>0.009868</td>\n",
       "      <td>0.225570</td>\n",
       "      <td>-0.251542</td>\n",
       "      <td>-0.170476</td>\n",
       "      <td>-0.003260</td>\n",
       "      <td>-0.139023</td>\n",
       "      <td>1.000000</td>\n",
       "      <td>-0.059173</td>\n",
       "    </tr>\n",
       "    <tr>\n",
       "      <th>sexo</th>\n",
       "      <td>-0.002230</td>\n",
       "      <td>-0.001689</td>\n",
       "      <td>0.153499</td>\n",
       "      <td>0.016547</td>\n",
       "      <td>0.029394</td>\n",
       "      <td>-0.020709</td>\n",
       "      <td>0.001549</td>\n",
       "      <td>0.009994</td>\n",
       "      <td>-0.026780</td>\n",
       "      <td>-0.012461</td>\n",
       "      <td>-0.059173</td>\n",
       "      <td>1.000000</td>\n",
       "    </tr>\n",
       "  </tbody>\n",
       "</table>\n",
       "</div>"
      ],
      "text/plain": [
       "                        año  fechaDef      edad    comuna     regio  \\\n",
       "año                1.000000  0.992396  0.028444 -0.001954 -0.002257   \n",
       "fechaDef           0.992396  1.000000  0.029645 -0.001805 -0.002332   \n",
       "edad               0.028444  0.029645  1.000000  0.037768  0.046297   \n",
       "comuna            -0.001954 -0.001805  0.037768  1.000000  0.170667   \n",
       "regio             -0.002257 -0.002332  0.046297  0.170667  1.000000   \n",
       "causaBasDef        0.116565  0.112142 -0.031750 -0.010719  0.009074   \n",
       "capituloDIAG1     -0.080364 -0.077048 -0.038609 -0.001894 -0.036602   \n",
       "grpoDIAG1         -0.057077 -0.055051 -0.085523  0.004159 -0.018072   \n",
       "categoriaDIAG1     0.059983  0.056549 -0.092970 -0.004890  0.017444   \n",
       "subcategoriaDIAG1 -0.045669 -0.044004 -0.087941 -0.001763 -0.014623   \n",
       "lugarDef          -0.012209 -0.013154 -0.216136 -0.010537  0.009868   \n",
       "sexo              -0.002230 -0.001689  0.153499  0.016547  0.029394   \n",
       "\n",
       "                   causaBasDef  capituloDIAG1  grpoDIAG1  categoriaDIAG1  \\\n",
       "año                   0.116565      -0.080364  -0.057077        0.059983   \n",
       "fechaDef              0.112142      -0.077048  -0.055051        0.056549   \n",
       "edad                 -0.031750      -0.038609  -0.085523       -0.092970   \n",
       "comuna               -0.010719      -0.001894   0.004159       -0.004890   \n",
       "regio                 0.009074      -0.036602  -0.018072        0.017444   \n",
       "causaBasDef           1.000000      -0.538790  -0.621417       -0.091133   \n",
       "capituloDIAG1        -0.538790       1.000000   0.745799        0.265960   \n",
       "grpoDIAG1            -0.621417       0.745799   1.000000        0.468314   \n",
       "categoriaDIAG1       -0.091133       0.265960   0.468314        1.000000   \n",
       "subcategoriaDIAG1    -0.521292       0.606805   0.703456        0.635514   \n",
       "lugarDef              0.225570      -0.251542  -0.170476       -0.003260   \n",
       "sexo                 -0.020709       0.001549   0.009994       -0.026780   \n",
       "\n",
       "                   subcategoriaDIAG1  lugarDef      sexo  \n",
       "año                        -0.045669 -0.012209 -0.002230  \n",
       "fechaDef                   -0.044004 -0.013154 -0.001689  \n",
       "edad                       -0.087941 -0.216136  0.153499  \n",
       "comuna                     -0.001763 -0.010537  0.016547  \n",
       "regio                      -0.014623  0.009868  0.029394  \n",
       "causaBasDef                -0.521292  0.225570 -0.020709  \n",
       "capituloDIAG1               0.606805 -0.251542  0.001549  \n",
       "grpoDIAG1                   0.703456 -0.170476  0.009994  \n",
       "categoriaDIAG1              0.635514 -0.003260 -0.026780  \n",
       "subcategoriaDIAG1           1.000000 -0.139023 -0.012461  \n",
       "lugarDef                   -0.139023  1.000000 -0.059173  \n",
       "sexo                       -0.012461 -0.059173  1.000000  "
      ]
     },
     "execution_count": 60,
     "metadata": {},
     "output_type": "execute_result"
    }
   ],
   "source": [
    "dfNorm.corr()"
   ]
  },
  {
   "cell_type": "code",
   "execution_count": 61,
   "id": "e0fd29ad",
   "metadata": {},
   "outputs": [
    {
     "data": {
      "text/html": [
       "<style>#sk-container-id-1 {color: black;}#sk-container-id-1 pre{padding: 0;}#sk-container-id-1 div.sk-toggleable {background-color: white;}#sk-container-id-1 label.sk-toggleable__label {cursor: pointer;display: block;width: 100%;margin-bottom: 0;padding: 0.3em;box-sizing: border-box;text-align: center;}#sk-container-id-1 label.sk-toggleable__label-arrow:before {content: \"▸\";float: left;margin-right: 0.25em;color: #696969;}#sk-container-id-1 label.sk-toggleable__label-arrow:hover:before {color: black;}#sk-container-id-1 div.sk-estimator:hover label.sk-toggleable__label-arrow:before {color: black;}#sk-container-id-1 div.sk-toggleable__content {max-height: 0;max-width: 0;overflow: hidden;text-align: left;background-color: #f0f8ff;}#sk-container-id-1 div.sk-toggleable__content pre {margin: 0.2em;color: black;border-radius: 0.25em;background-color: #f0f8ff;}#sk-container-id-1 input.sk-toggleable__control:checked~div.sk-toggleable__content {max-height: 200px;max-width: 100%;overflow: auto;}#sk-container-id-1 input.sk-toggleable__control:checked~label.sk-toggleable__label-arrow:before {content: \"▾\";}#sk-container-id-1 div.sk-estimator input.sk-toggleable__control:checked~label.sk-toggleable__label {background-color: #d4ebff;}#sk-container-id-1 div.sk-label input.sk-toggleable__control:checked~label.sk-toggleable__label {background-color: #d4ebff;}#sk-container-id-1 input.sk-hidden--visually {border: 0;clip: rect(1px 1px 1px 1px);clip: rect(1px, 1px, 1px, 1px);height: 1px;margin: -1px;overflow: hidden;padding: 0;position: absolute;width: 1px;}#sk-container-id-1 div.sk-estimator {font-family: monospace;background-color: #f0f8ff;border: 1px dotted black;border-radius: 0.25em;box-sizing: border-box;margin-bottom: 0.5em;}#sk-container-id-1 div.sk-estimator:hover {background-color: #d4ebff;}#sk-container-id-1 div.sk-parallel-item::after {content: \"\";width: 100%;border-bottom: 1px solid gray;flex-grow: 1;}#sk-container-id-1 div.sk-label:hover label.sk-toggleable__label {background-color: #d4ebff;}#sk-container-id-1 div.sk-serial::before {content: \"\";position: absolute;border-left: 1px solid gray;box-sizing: border-box;top: 0;bottom: 0;left: 50%;z-index: 0;}#sk-container-id-1 div.sk-serial {display: flex;flex-direction: column;align-items: center;background-color: white;padding-right: 0.2em;padding-left: 0.2em;position: relative;}#sk-container-id-1 div.sk-item {position: relative;z-index: 1;}#sk-container-id-1 div.sk-parallel {display: flex;align-items: stretch;justify-content: center;background-color: white;position: relative;}#sk-container-id-1 div.sk-item::before, #sk-container-id-1 div.sk-parallel-item::before {content: \"\";position: absolute;border-left: 1px solid gray;box-sizing: border-box;top: 0;bottom: 0;left: 50%;z-index: -1;}#sk-container-id-1 div.sk-parallel-item {display: flex;flex-direction: column;z-index: 1;position: relative;background-color: white;}#sk-container-id-1 div.sk-parallel-item:first-child::after {align-self: flex-end;width: 50%;}#sk-container-id-1 div.sk-parallel-item:last-child::after {align-self: flex-start;width: 50%;}#sk-container-id-1 div.sk-parallel-item:only-child::after {width: 0;}#sk-container-id-1 div.sk-dashed-wrapped {border: 1px dashed gray;margin: 0 0.4em 0.5em 0.4em;box-sizing: border-box;padding-bottom: 0.4em;background-color: white;}#sk-container-id-1 div.sk-label label {font-family: monospace;font-weight: bold;display: inline-block;line-height: 1.2em;}#sk-container-id-1 div.sk-label-container {text-align: center;}#sk-container-id-1 div.sk-container {/* jupyter's `normalize.less` sets `[hidden] { display: none; }` but bootstrap.min.css set `[hidden] { display: none !important; }` so we also need the `!important` here to be able to override the default hidden behavior on the sphinx rendered scikit-learn.org. See: https://github.com/scikit-learn/scikit-learn/issues/21755 */display: inline-block !important;position: relative;}#sk-container-id-1 div.sk-text-repr-fallback {display: none;}</style><div id=\"sk-container-id-1\" class=\"sk-top-container\"><div class=\"sk-text-repr-fallback\"><pre>PCA(n_components=11)</pre><b>In a Jupyter environment, please rerun this cell to show the HTML representation or trust the notebook. <br />On GitHub, the HTML representation is unable to render, please try loading this page with nbviewer.org.</b></div><div class=\"sk-container\" hidden><div class=\"sk-item\"><div class=\"sk-estimator sk-toggleable\"><input class=\"sk-toggleable__control sk-hidden--visually\" id=\"sk-estimator-id-1\" type=\"checkbox\" checked><label for=\"sk-estimator-id-1\" class=\"sk-toggleable__label sk-toggleable__label-arrow\">PCA</label><div class=\"sk-toggleable__content\"><pre>PCA(n_components=11)</pre></div></div></div></div></div>"
      ],
      "text/plain": [
       "PCA(n_components=11)"
      ]
     },
     "execution_count": 61,
     "metadata": {},
     "output_type": "execute_result"
    }
   ],
   "source": [
    "pca_ = decomposition.PCA(n_components=11)\n",
    "pca_.fit(dfNorm.iloc[:,0:11])"
   ]
  },
  {
   "cell_type": "code",
   "execution_count": 62,
   "id": "e7b69ac4",
   "metadata": {},
   "outputs": [],
   "source": [
    "y = dfNorm[\"sexo\"]"
   ]
  },
  {
   "cell_type": "code",
   "execution_count": 63,
   "id": "2d73421e",
   "metadata": {},
   "outputs": [],
   "source": [
    "x = dfNorm.iloc[:,0:11]"
   ]
  },
  {
   "cell_type": "code",
   "execution_count": 64,
   "id": "414320ab",
   "metadata": {},
   "outputs": [
    {
     "data": {
      "text/plain": [
       "<matplotlib.lines.Line2D at 0x26b2e7cfb50>"
      ]
     },
     "execution_count": 64,
     "metadata": {},
     "output_type": "execute_result"
    },
    {
     "data": {
      "image/png": "[encoded data removed]",
      "text/plain": [
       "<Figure size 800x800 with 1 Axes>"
      ]
     },
     "metadata": {},
     "output_type": "display_data"
    }
   ],
   "source": [
    "sns.set(style='whitegrid')\n",
    "fig = plt.subplots(figsize=(8,8))\n",
    "plt.plot(np.cumsum(pca_.explained_variance_ratio_),'r-')\n",
    "plt.xlabel('number of components')\n",
    "plt.ylabel('cumulative explained variance')\n",
    "plt.axvline(linewidth=3, color='m', linestyle = '-', x=6, ymin=0, ymax=1)"
   ]
  },
  {
   "cell_type": "code",
   "execution_count": 65,
   "id": "e55134c4",
   "metadata": {},
   "outputs": [
    {
     "data": {
      "text/html": [
       "<div>\n",
       "<style scoped>\n",
       "    .dataframe tbody tr th:only-of-type {\n",
       "        vertical-align: middle;\n",
       "    }\n",
       "\n",
       "    .dataframe tbody tr th {\n",
       "        vertical-align: top;\n",
       "    }\n",
       "\n",
       "    .dataframe thead th {\n",
       "        text-align: right;\n",
       "    }\n",
       "</style>\n",
       "<table border=\"1\" class=\"dataframe\">\n",
       "  <thead>\n",
       "    <tr style=\"text-align: right;\">\n",
       "      <th></th>\n",
       "      <th>Cumulative Variance Ratio</th>\n",
       "      <th>Explained Variance Ratio</th>\n",
       "    </tr>\n",
       "  </thead>\n",
       "  <tbody>\n",
       "    <tr>\n",
       "      <th>0</th>\n",
       "      <td>0.311514</td>\n",
       "      <td>0.311514</td>\n",
       "    </tr>\n",
       "    <tr>\n",
       "      <th>1</th>\n",
       "      <td>0.517188</td>\n",
       "      <td>0.205674</td>\n",
       "    </tr>\n",
       "    <tr>\n",
       "      <th>2</th>\n",
       "      <td>0.688471</td>\n",
       "      <td>0.171283</td>\n",
       "    </tr>\n",
       "    <tr>\n",
       "      <th>3</th>\n",
       "      <td>0.783033</td>\n",
       "      <td>0.094561</td>\n",
       "    </tr>\n",
       "    <tr>\n",
       "      <th>4</th>\n",
       "      <td>0.861095</td>\n",
       "      <td>0.078062</td>\n",
       "    </tr>\n",
       "    <tr>\n",
       "      <th>5</th>\n",
       "      <td>0.927530</td>\n",
       "      <td>0.066436</td>\n",
       "    </tr>\n",
       "    <tr>\n",
       "      <th>6</th>\n",
       "      <td>0.960694</td>\n",
       "      <td>0.033164</td>\n",
       "    </tr>\n",
       "    <tr>\n",
       "      <th>7</th>\n",
       "      <td>0.983994</td>\n",
       "      <td>0.023300</td>\n",
       "    </tr>\n",
       "    <tr>\n",
       "      <th>8</th>\n",
       "      <td>0.999104</td>\n",
       "      <td>0.015111</td>\n",
       "    </tr>\n",
       "    <tr>\n",
       "      <th>9</th>\n",
       "      <td>0.999743</td>\n",
       "      <td>0.000638</td>\n",
       "    </tr>\n",
       "    <tr>\n",
       "      <th>10</th>\n",
       "      <td>1.000000</td>\n",
       "      <td>0.000257</td>\n",
       "    </tr>\n",
       "  </tbody>\n",
       "</table>\n",
       "</div>"
      ],
      "text/plain": [
       "    Cumulative Variance Ratio  Explained Variance Ratio\n",
       "0                    0.311514                  0.311514\n",
       "1                    0.517188                  0.205674\n",
       "2                    0.688471                  0.171283\n",
       "3                    0.783033                  0.094561\n",
       "4                    0.861095                  0.078062\n",
       "5                    0.927530                  0.066436\n",
       "6                    0.960694                  0.033164\n",
       "7                    0.983994                  0.023300\n",
       "8                    0.999104                  0.015111\n",
       "9                    0.999743                  0.000638\n",
       "10                   1.000000                  0.000257"
      ]
     },
     "execution_count": 65,
     "metadata": {},
     "output_type": "execute_result"
    }
   ],
   "source": [
    "explvarr = pca_.explained_variance_ratio_\n",
    "cumvarr = np.cumsum(pca_.explained_variance_ratio_)\n",
    "\n",
    "pca_df = pd.DataFrame()\n",
    "pca_df['Cumulative Variance Ratio'] = cumvarr\n",
    "pca_df['Explained Variance Ratio'] = explvarr\n",
    "pca_df"
   ]
  },
  {
   "cell_type": "code",
   "execution_count": 66,
   "id": "00d9c928",
   "metadata": {},
   "outputs": [
    {
     "data": {
      "text/plain": [
       "(866756, 6)"
      ]
     },
     "execution_count": 66,
     "metadata": {},
     "output_type": "execute_result"
    }
   ],
   "source": [
    "x_pca = decomposition.PCA(n_components=6).fit_transform(dfNorm)\n",
    "x_pca.shape"
   ]
  },
  {
   "cell_type": "markdown",
   "id": "dd03722a",
   "metadata": {},
   "source": [
    " "
   ]
  },
  {
   "cell_type": "markdown",
   "id": "c955ab79",
   "metadata": {},
   "source": [
    "### 5. Incorporación a base de datos SQL"
   ]
  },
  {
   "cell_type": "markdown",
   "id": "e24aba1a",
   "metadata": {},
   "source": [
    "Guardaré el dataframe final en una base de datos SQL, en este caso la tabla no tendrá los códigos asociados a regiones, comunas ni diagnóstico, pero si agregare una columna “id”. También generamos la tabla en formato CSV."
   ]
  },
  {
   "cell_type": "code",
   "execution_count": 67,
   "id": "6ad9475d",
   "metadata": {},
   "outputs": [],
   "source": [
    "db = sql.connect(host = \"localhost\",\n",
    "                 user = \"root\",\n",
    "                 passwd = \"mysql123\",\n",
    "                 database = \"Defunciones_en_chile_2016_2023\")"
   ]
  },
  {
   "cell_type": "code",
   "execution_count": 68,
   "id": "ab759282",
   "metadata": {},
   "outputs": [],
   "source": [
    "cursor = db.cursor()"
   ]
  },
  {
   "cell_type": "code",
   "execution_count": 70,
   "id": "5a85b976",
   "metadata": {},
   "outputs": [],
   "source": [
    "df3.insert(0,\"id\",\" \")"
   ]
  },
  {
   "cell_type": "code",
   "execution_count": null,
   "id": "2de4aaf0",
   "metadata": {},
   "outputs": [],
   "source": [
    "count = 0\n",
    "for i in df3[\"id\"]:\n",
    "    df3[\"id\"][i] = count\n",
    "    count += 1"
   ]
  },
  {
   "cell_type": "code",
   "execution_count": null,
   "id": "436f63c3",
   "metadata": {},
   "outputs": [],
   "source": [
    "df3.head()"
   ]
  },
  {
   "cell_type": "code",
   "execution_count": null,
   "id": "2c6110cb",
   "metadata": {},
   "outputs": [],
   "source": [
    "atributos = \"id INT PRIMARY KEY, Año INT, Fecha_def VARCHAR(200), Sexo VARCHAR(200), Edad_num INT, Com_resi VARCHAR(200), Reg_resi VARCHAR(200), Causa_bas_def VARCHAR(200), GLOSA_CAPITULO_DIAG1 VARCHAR(200), GLOSA_GRUPO_DIAG1 VARCHAR(200), GLOSA_CATEGORIA_DIAG1 VARCHAR(200), GLOSA_SUBCATEGORIA_DIAG1 VARCHAR(200), lugar_def VARCHAR(200)\""
   ]
  },
  {
   "cell_type": "code",
   "execution_count": null,
   "id": "33e76501",
   "metadata": {},
   "outputs": [],
   "source": [
    "sentencia2 = \"INSERT INTO defuncionesChile2016_2023 (id, Año, Fecha_def, Sexo, Edad_num, Com_resi, Reg_resi, Causa_bas_def, GLOSA_CAPITULO_DIAG1, GLOSA_GRUPO_DIAG1, GLOSA_CATEGORIA_DIAG1, GLOSA_SUBCATEGORIA_DIAG1, lugar_def) VALUE (%s,%s,%s,%s,%s,%s,%s,%s,%s,%s,%s,%s,%s)\""
   ]
  },
  {
   "cell_type": "code",
   "execution_count": null,
   "id": "feeb9223",
   "metadata": {},
   "outputs": [],
   "source": [
    "cursor.execute(\"CREATE DATABASE Defunciones_en_chile_2016_2023\")"
   ]
  },
  {
   "cell_type": "code",
   "execution_count": null,
   "id": "fe1a854e",
   "metadata": {
    "scrolled": true
   },
   "outputs": [],
   "source": [
    "cursor.execute(f\"CREATE TABLE defuncionesChile2016_2023({atributos})\")"
   ]
  },
  {
   "cell_type": "code",
   "execution_count": null,
   "id": "65614a1d",
   "metadata": {},
   "outputs": [],
   "source": [
    "inicio = time.time()\n",
    "for i, row in df3.iterrows():\n",
    "    cursor.execute(sentencia2, tuple(row))\n",
    "    db.commit()\n",
    "fin = time.time()\n",
    "print(fin-inicio)"
   ]
  },
  {
   "cell_type": "code",
   "execution_count": null,
   "id": "bd68bf26",
   "metadata": {},
   "outputs": [],
   "source": [
    "df4 = df3.iloc[0:1,:]"
   ]
  },
  {
   "cell_type": "code",
   "execution_count": null,
   "id": "ed1b2aec",
   "metadata": {},
   "outputs": [],
   "source": [
    "df3.to_csv(\"Defunciones_Chile_2016_2023.csv\", sep =\",\", encoding = \"latin-1\")"
   ]
  },
  {
   "cell_type": "markdown",
   "id": "a34e7057",
   "metadata": {},
   "source": [
    "### 6. Modelos predictivos"
   ]
  },
  {
   "cell_type": "markdown",
   "id": "2d7f78f4",
   "metadata": {},
   "source": [
    "Se prepararon dos modelos predictivos no supervisados KMeans y DBSCAN, para el caso de KMeans se sortearan los set de entrenamiento y test por Hold-Out y K-Fold Cross Validation."
   ]
  },
  {
   "cell_type": "markdown",
   "id": "9f833bae",
   "metadata": {},
   "source": [
    "#### 6.1 División del set por Hold - Out y modelo KMeans"
   ]
  },
  {
   "cell_type": "markdown",
   "id": "28abe2f2",
   "metadata": {},
   "source": [
    "Primero se separaran los test de entrenamiento y test a partir de los datos reducidos por PCA mediante Hold-Out, con ellos probaremos dos modelos de KMeans variando el número de clusters (2 y 7 respectivamente) y calcularemos las estadísticas de  Accuracy, Precision, F1score y Recall del modelo. Primero vemos que todas las estadísticas dan el mismo valor, obtenemos mejores valores con 2 clusters que con 7."
   ]
  },
  {
   "cell_type": "code",
   "execution_count": null,
   "id": "4dd907c7",
   "metadata": {},
   "outputs": [],
   "source": [
    "X_train, X_test, y_train, y_test = train_test_split(x_pca, y, test_size=0.30)"
   ]
  },
  {
   "cell_type": "code",
   "execution_count": null,
   "id": "f9821086",
   "metadata": {},
   "outputs": [],
   "source": [
    "kmeans1 = KMeans(n_clusters=2, random_state=0).fit(X_train)"
   ]
  },
  {
   "cell_type": "code",
   "execution_count": null,
   "id": "bcebc1d3",
   "metadata": {},
   "outputs": [],
   "source": [
    "y_pred1 = kmeans1.predict(X_test)"
   ]
  },
  {
   "cell_type": "code",
   "execution_count": null,
   "id": "cef24e0e",
   "metadata": {},
   "outputs": [],
   "source": [
    "print('Accuracy 1: %0.3f' % (accuracy_score(y_test, y_pred1, normalize=True)*100),'%')"
   ]
  },
  {
   "cell_type": "code",
   "execution_count": null,
   "id": "a6aaa2c2",
   "metadata": {},
   "outputs": [],
   "source": [
    "print('precision 1: %0.3f' % (precision_score(y_test, y_pred1, average = 'micro')*100),'%')"
   ]
  },
  {
   "cell_type": "code",
   "execution_count": null,
   "id": "47ab04e9",
   "metadata": {},
   "outputs": [],
   "source": [
    "print('f1score 1: %0.3f' % (f1_score(y_test, y_pred1, average = 'micro')*100),'%')"
   ]
  },
  {
   "cell_type": "code",
   "execution_count": null,
   "id": "283054f5",
   "metadata": {},
   "outputs": [],
   "source": [
    "print('recall 1: %0.3f' % (recall_score(y_test, y_pred1,average = 'weighted')*100),'%')"
   ]
  },
  {
   "cell_type": "code",
   "execution_count": null,
   "id": "a08d6210",
   "metadata": {},
   "outputs": [],
   "source": [
    "kmeans2 = KMeans(n_clusters=7, random_state=0).fit(X_train)"
   ]
  },
  {
   "cell_type": "code",
   "execution_count": null,
   "id": "6821bafd",
   "metadata": {},
   "outputs": [],
   "source": [
    "y_pred2 = kmeans2.predict(X_test)"
   ]
  },
  {
   "cell_type": "code",
   "execution_count": null,
   "id": "08300822",
   "metadata": {},
   "outputs": [],
   "source": [
    "print('Accuracy 2: %0.3f' % (accuracy_score(y_test, y_pred2, normalize=True)*100),'%')"
   ]
  },
  {
   "cell_type": "code",
   "execution_count": null,
   "id": "b117acd0",
   "metadata": {},
   "outputs": [],
   "source": [
    "print('precision 2: %0.3f' % (precision_score(y_test, y_pred2, average = 'micro')*100),'%')"
   ]
  },
  {
   "cell_type": "code",
   "execution_count": null,
   "id": "c4520737",
   "metadata": {},
   "outputs": [],
   "source": [
    "print('f1score 2: %0.3f' % (f1_score(y_test, y_pred2, average = 'micro')*100),'%')"
   ]
  },
  {
   "cell_type": "code",
   "execution_count": null,
   "id": "37343818",
   "metadata": {},
   "outputs": [],
   "source": [
    "print('recall 2: %0.3f' % (recall_score(y_test, y_pred2,average = 'weighted')*100),'%')"
   ]
  },
  {
   "cell_type": "markdown",
   "id": "a0d7230a",
   "metadata": {},
   "source": [
    " "
   ]
  },
  {
   "cell_type": "markdown",
   "id": "355e0221",
   "metadata": {},
   "source": [
    "#### 6.2 División del set por K-Fold Cross Validation y modelo KMeans"
   ]
  },
  {
   "cell_type": "markdown",
   "id": "90857275",
   "metadata": {},
   "source": [
    "Ahora se probó separar los set para el modelo mediante K-Fold Cross Validation, especificando que realice 10 splits. Para el modelo de KMeans se pediran 2 clusters, además se calcularán las 4 estadísticas del modelo ya mencionadas y con ellas confeccione un df donde se graficara el f1 score. En general obtener mejores score a menor número de clusters, esto puede ser por la poca correlación entre los atributos entregados o que en verdad no existe una relación o un buen atributo que predecir dentro de este set de datos."
   ]
  },
  {
   "cell_type": "code",
   "execution_count": null,
   "id": "88b1147e",
   "metadata": {},
   "outputs": [],
   "source": [
    "kf = KFold(n_splits=10)"
   ]
  },
  {
   "cell_type": "code",
   "execution_count": null,
   "id": "7bbb0a2b",
   "metadata": {},
   "outputs": [],
   "source": [
    "kmeans = KMeans(n_clusters=2, random_state=0)"
   ]
  },
  {
   "cell_type": "code",
   "execution_count": null,
   "id": "470e04a3",
   "metadata": {},
   "outputs": [],
   "source": [
    "acc = []\n",
    "pre = []\n",
    "rec = []\n",
    "f1 = []\n",
    "\n",
    "for train_idx, test_idx in kf.split(x_pca):\n",
    "    X_train, X_test = x.iloc[train_idx], x.iloc[test_idx]\n",
    "    y_train, y_test = y.iloc[train_idx], y.iloc[test_idx]\n",
    "    model = kmeans.fit(X_train, y_train)\n",
    "    y_pred = model.predict(X_test)\n",
    "    acc.append(accuracy_score(y_test, y_pred, normalize=True)*100)\n",
    "    pre.append(precision_score(y_test, y_pred, average = 'micro')*100)\n",
    "    f1.append(f1_score(y_test, y_pred, average = 'micro')*100)\n",
    "    rec.append(recall_score(y_test, y_pred,average = 'weighted')*100)"
   ]
  },
  {
   "cell_type": "code",
   "execution_count": null,
   "id": "358950d0",
   "metadata": {},
   "outputs": [],
   "source": [
    "fold = [i+1 for i in range(len(acc))]\n",
    "scores = pd.DataFrame(np.array([fold,acc,pre,rec,f1]).T,columns=[\"Folds\",\"Accuracy\",\"Precision\", \"Recall\", \"F1-score\"])\n",
    "\n",
    "scores.head(15)"
   ]
  },
  {
   "cell_type": "code",
   "execution_count": null,
   "id": "77e9f20e",
   "metadata": {},
   "outputs": [],
   "source": [
    "f = plt.subplots(figsize=(10, 8))\n",
    "plt.plot(scores['Folds'],scores['F1-score'],'ro',markersize=10,alpha=0.7)\n",
    "plt.plot(scores['Folds'],scores['F1-score'],'r--',alpha=0.7)\n",
    "plt.ylim(0,105)\n",
    "plt.xlabel('n fold',fontsize=20)\n",
    "plt.ylabel('F1 Score',fontsize=20)\n",
    "plt.title('F1 Score \\n ---------------------- \\n Folds: %i, mean: %.2f, std: %.2f \\n' %\n",
    "             (len(scores['F1-score']),np.mean(scores['F1-score']),np.std(scores['F1-score'])),fontsize=22)\n"
   ]
  },
  {
   "cell_type": "markdown",
   "id": "d749f44a",
   "metadata": {},
   "source": [
    " "
   ]
  },
  {
   "cell_type": "markdown",
   "id": "1d13abd3",
   "metadata": {},
   "source": [
    "#### 6.3 División del set por Hold - Out Validation y modelo DBSCAM"
   ]
  },
  {
   "cell_type": "markdown",
   "id": "dd1d5f06",
   "metadata": {},
   "source": [
    "Se realizó la división de los sets de entrenamiento y testeo mediante Hold - Out, se le entregaron los datos reducidos por PCA y se le pidió que el 20% de los datos se utilicen para el set test.\n",
    "\n",
    "Luego se probaron tres modelos de DBSCAM variando la distancia min entre clusters (0.2, 0.15 y 0.17) y el número mínimo de muestras para que se consideren clusters (20, 30 y 10), como métrica de cálculo de distancia utilizara la euclidiana y el algoritmo a utilizar la que encuentre conveniente (\"auto\"). Luego y para cada modelo se calculó el número de clusters encontrados, cuantos puntos ruidosos encontró y las estadísticas asociadas a la precisión de la predicción (accuracy, precision,f1 score y recall). Aunque los resultados obtenidos dependen de los sets y pueden variar entre run y run, mencionar que el primer modelo encontró 10 clusters totales de los cuales 1 está conformado con 626 datos ruidosos y con scores de 48.64%, el segundo modelo identificó 21 clusters totales de los cuales 1 tenía 7701 datos ruidosos con score de 38,49% y el tercer modelo encontró 10 clusters totales, de los cuales 1 tiene 513 datos ruidosos, con score de 48,61%. Finalmente se grafico los clusters encontrados por el modelo 3, donde se pueden ver los 9 clusters y en negro los datos ruidosos.\n"
   ]
  },
  {
   "cell_type": "markdown",
   "id": "e10c303f",
   "metadata": {},
   "source": [
    "X_train, X_test, y_train, y_test = train_test_split(x_pca, y, test_size=0.20)"
   ]
  },
  {
   "cell_type": "code",
   "execution_count": null,
   "id": "83d46d02",
   "metadata": {},
   "outputs": [],
   "source": [
    "modelo1 = DBSCAN(eps= .2, min_samples=20, metric=\"euclidean\", algorithm=\"auto\").fit(X_train)"
   ]
  },
  {
   "cell_type": "code",
   "execution_count": null,
   "id": "f23cc6ee",
   "metadata": {},
   "outputs": [],
   "source": [
    "y_pred1 = modelo1.fit_predict(X_test)"
   ]
  },
  {
   "cell_type": "code",
   "execution_count": null,
   "id": "f35efd61",
   "metadata": {},
   "outputs": [],
   "source": [
    "labels1 = modelo1.labels_"
   ]
  },
  {
   "cell_type": "code",
   "execution_count": null,
   "id": "103be736",
   "metadata": {},
   "outputs": [],
   "source": [
    "num1 = np.unique(labels1)"
   ]
  },
  {
   "cell_type": "code",
   "execution_count": null,
   "id": "61155d34",
   "metadata": {},
   "outputs": [],
   "source": [
    "len(set(labels1)) - (1 if -1 in labels1 else 0)"
   ]
  },
  {
   "cell_type": "code",
   "execution_count": null,
   "id": "4415f412",
   "metadata": {},
   "outputs": [],
   "source": [
    "list(labels1).count(-1)"
   ]
  },
  {
   "cell_type": "code",
   "execution_count": null,
   "id": "4786cb9a",
   "metadata": {},
   "outputs": [],
   "source": [
    "print(\"accuracy score: %0.2f\"%(accuracy_score(y_test, y_pred1, normalize=True)*100),\"%\")\n",
    "print(\"precision score: %0.2f\"%(precision_score(y_test, y_pred1, average = \"micro\")*100),\"%\")\n",
    "print(\"f1 score: %0.2f\"%(f1_score(y_test, y_pred1, average = 'micro')*100),\"%\")\n",
    "print(\"recall score: %0.2f\"%(recall_score(y_test, y_pred1,average = 'weighted')*100),\"%\")"
   ]
  },
  {
   "cell_type": "code",
   "execution_count": null,
   "id": "5cb1a328",
   "metadata": {},
   "outputs": [],
   "source": [
    "modelo2 = DBSCAN(eps= .15, min_samples=30, metric=\"euclidean\", algorithm=\"auto\").fit(X_train)"
   ]
  },
  {
   "cell_type": "code",
   "execution_count": null,
   "id": "6df742ac",
   "metadata": {},
   "outputs": [],
   "source": [
    "y_pred2 = modelo2.fit_predict(X_test)"
   ]
  },
  {
   "cell_type": "code",
   "execution_count": null,
   "id": "578ae6fc",
   "metadata": {},
   "outputs": [],
   "source": [
    "labels2 = modelo2.labels_"
   ]
  },
  {
   "cell_type": "code",
   "execution_count": null,
   "id": "556b4684",
   "metadata": {},
   "outputs": [],
   "source": [
    "num2 = np.unique(labels2)"
   ]
  },
  {
   "cell_type": "code",
   "execution_count": null,
   "id": "a85edd71",
   "metadata": {},
   "outputs": [],
   "source": [
    "len(set(labels2)) - (1 if -1 in labels2 else 0)"
   ]
  },
  {
   "cell_type": "code",
   "execution_count": null,
   "id": "7bee47ff",
   "metadata": {},
   "outputs": [],
   "source": [
    "list(labels2).count(-1)"
   ]
  },
  {
   "cell_type": "code",
   "execution_count": null,
   "id": "8bb903bd",
   "metadata": {},
   "outputs": [],
   "source": [
    "print(\"accuracy score: %0.2f\"%(accuracy_score(y_test, y_pred2, normalize=True)*100),\"%\")\n",
    "print(\"precision score: %0.2f\"%(precision_score(y_test, y_pred2, average = \"micro\")*100),\"%\")\n",
    "print(\"f1 score: %0.2f\"%(f1_score(y_test, y_pred2, average = 'micro')*100),\"%\")\n",
    "print(\"recall score: %0.2f\"%(recall_score(y_test, y_pred2,average = 'weighted')*100),\"%\")"
   ]
  },
  {
   "cell_type": "code",
   "execution_count": null,
   "id": "812b7ead",
   "metadata": {},
   "outputs": [],
   "source": [
    "modelo3 = DBSCAN(eps= .17, min_samples=10, metric=\"euclidean\", algorithm=\"auto\").fit(X_train)"
   ]
  },
  {
   "cell_type": "code",
   "execution_count": null,
   "id": "16ad04ca",
   "metadata": {},
   "outputs": [],
   "source": [
    "y_pred3 = modelo3.fit_predict(X_test)"
   ]
  },
  {
   "cell_type": "code",
   "execution_count": null,
   "id": "67b37442",
   "metadata": {},
   "outputs": [],
   "source": [
    "labels3 = modelo3.labels_"
   ]
  },
  {
   "cell_type": "code",
   "execution_count": null,
   "id": "ca5f845d",
   "metadata": {},
   "outputs": [],
   "source": [
    "np.unique(labels3)"
   ]
  },
  {
   "cell_type": "code",
   "execution_count": null,
   "id": "497f501d",
   "metadata": {},
   "outputs": [],
   "source": [
    "n_clusters_ = len(set(labels3)) - (1 if -1 in labels3 else 0)"
   ]
  },
  {
   "cell_type": "code",
   "execution_count": null,
   "id": "d55197d1",
   "metadata": {},
   "outputs": [],
   "source": [
    "n_clusters_"
   ]
  },
  {
   "cell_type": "code",
   "execution_count": null,
   "id": "ca29bd10",
   "metadata": {},
   "outputs": [],
   "source": [
    "list(labels3).count(-1)"
   ]
  },
  {
   "cell_type": "code",
   "execution_count": null,
   "id": "86ff591d",
   "metadata": {},
   "outputs": [],
   "source": [
    "print(\"accuracy score: %0.2f\"%(accuracy_score(y_test, y_pred3, normalize=True)*100),\"%\")\n",
    "print(\"precision score: %0.2f\"%(precision_score(y_test, y_pred3, average = \"micro\")*100),\"%\")\n",
    "print(\"f1 score: %0.2f\"%(f1_score(y_test, y_pred3, average = 'micro')*100),\"%\")\n",
    "print(\"recall score: %0.2f\"%(recall_score(y_test, y_pred3,average = 'weighted')*100),\"%\")"
   ]
  },
  {
   "cell_type": "code",
   "execution_count": null,
   "id": "cc61b987",
   "metadata": {},
   "outputs": [],
   "source": [
    "unique_labels = set(labels3)\n",
    "core_samples_mask = np.zeros_like(labels3, dtype=bool)\n",
    "\n",
    "colors = [plt.cm.Spectral(each) for each in np.linspace(0, 1, len(unique_labels))]\n",
    "for k, col in zip(unique_labels, colors):\n",
    "    if k == -1:\n",
    "        # Black used for noise.\n",
    "        col = [0, 0, 0, 1]\n",
    "\n",
    "    class_member_mask = labels3 == k\n",
    "\n",
    "    xy = X_test[class_member_mask & core_samples_mask]\n",
    "    plt.plot(\n",
    "        xy[:, 0],\n",
    "        xy[:, 1],\n",
    "        \"o\",\n",
    "        markerfacecolor=tuple(col),\n",
    "        markeredgecolor=\"k\",\n",
    "        markersize=14,\n",
    "    )\n",
    "\n",
    "    xy = X_test[class_member_mask & ~core_samples_mask]\n",
    "    plt.plot(\n",
    "        xy[:, 0],\n",
    "        xy[:, 1],\n",
    "        \"o\",\n",
    "        markerfacecolor=tuple(col),\n",
    "        markeredgecolor=\"k\",\n",
    "        markersize=6,\n",
    "    )\n",
    "\n",
    "plt.title(f\"Estimated number of clusters: {n_clusters_}\")\n",
    "plt.show()"
   ]
  },
  {
   "cell_type": "markdown",
   "id": "20aafc87",
   "metadata": {},
   "source": [
    " "
   ]
  },
  {
   "cell_type": "markdown",
   "id": "5cd04fd4",
   "metadata": {},
   "source": [
    " "
   ]
  },
  {
   "cell_type": "markdown",
   "id": "4885ee1e",
   "metadata": {},
   "source": [
    "### 7. Conclusión"
   ]
  },
  {
   "cell_type": "markdown",
   "id": "971d4d92",
   "metadata": {},
   "source": [
    "Aunque los sets de datos seleccionados nos entregan información relevante sobre la situación del país y nos permiten visualizar problemas y generar planes para detener enfermedades o situaciones que están provocando el aumento de las defunciones en Chile. No es un buen set para poder realizar modelos predictivos, o por lo menos, no en su totalidad, queda pendiente encontrar dentro de esta data sub-sets, mucho más específicos, que puedan ser usados para generar mejores modelos.\n",
    "En este caso, al usar la totalidad de la data depurada no logramos generar buenos modelos, con estadísticas de precisión alrededor del 50%.\n",
    "Finalmente el dataframe guardado en MySQL será utilizado para realizar un reporte dinámico en Power BI."
   ]
  },
  {
   "cell_type": "code",
   "execution_count": null,
   "id": "f9c068b9",
   "metadata": {},
   "outputs": [],
   "source": []
  }
 ],
 "metadata": {
  "kernelspec": {
   "display_name": "Python 3 (ipykernel)",
   "language": "python",
   "name": "python3"
  },
  "language_info": {
   "codemirror_mode": {
    "name": "ipython",
    "version": 3
   },
   "file_extension": ".py",
   "mimetype": "text/x-python",
   "name": "python",
   "nbconvert_exporter": "python",
   "pygments_lexer": "ipython3",
   "version": "3.11.5"
  }
 },
 "nbformat": 4,
 "nbformat_minor": 5
}
